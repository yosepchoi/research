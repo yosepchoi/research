{
 "cells": [
  {
   "cell_type": "code",
   "execution_count": 1,
   "metadata": {
    "collapsed": true
   },
   "outputs": [],
   "source": [
    "%matplotlib inline\n",
    "import sys\n",
    "sys.path.append('../../')\n",
    "import numpy as np\n",
    "import matplotlib.pyplot as plt\n",
    "from modules.tools import open_file, product_info, dataframe\n",
    "from datetime import datetime, timedelta\n",
    "from modules import tdop"
   ]
  },
  {
   "cell_type": "markdown",
   "metadata": {},
   "source": [
    "### 0. Load data"
   ]
  },
  {
   "cell_type": "code",
   "execution_count": 2,
   "metadata": {
    "collapsed": true
   },
   "outputs": [],
   "source": [
    "products = product_info() #종목정보\n",
    "raw_daily = open_file('h5py','raw data/daily_futures.h5') #daily futures\n",
    "raw_density = open_file('tb','etc/density_table.hdf5', mode='r') #density table"
   ]
  },
  {
   "cell_type": "markdown",
   "metadata": {},
   "source": [
    "### 1. Generate Historcal TDOP "
   ]
  },
  {
   "cell_type": "code",
   "execution_count": 3,
   "metadata": {
    "collapsed": true
   },
   "outputs": [],
   "source": [
    "fname = f'etc/historical_TDOP_exp7.h5'\n",
    "file = open_file('h5py', fname, mode='w', force=True)"
   ]
  },
  {
   "cell_type": "code",
   "execution_count": 4,
   "metadata": {},
   "outputs": [
    {
     "name": "stdout",
     "output_type": "stream",
     "text": [
      "processing: ZW at 2014-12-31T00:00:00 (48/49)                          Wall time: 51min\n"
     ]
    }
   ],
   "source": [
    "%%time\n",
    "length = len(raw_density.list_nodes('/'))\n",
    "\n",
    "for cnt, grp in enumerate(raw_density.iter_nodes('/')):\n",
    "    symbol = grp._v_name\n",
    "    #if symbol != 'GC':\n",
    "    #    continue\n",
    "    for ohlc in raw_daily.values():\n",
    "        if ohlc.attrs['symbol'] == symbol:\n",
    "            dateindex = ohlc.value[:,0].astype('M8[s]')\n",
    "    \n",
    "    print('\\r processing: %s (%s/%s)                             '%(symbol,cnt,length), end='', flush=True)\n",
    "    pinfo = products[symbol]\n",
    "    x, columns, values, date = tdop.get_factors(grp.Density, pinfo)\n",
    "    dates = []\n",
    "    prices = []\n",
    "    tdops = []\n",
    "    for now in dateindex:\n",
    "        print(f\"\\rprocessing: {symbol} at {now} ({cnt}/{length})                        \", end='', flush=True)\n",
    "        #x, y, date = create_tdop(grp.Density, pinfo, decayfactor=1, now=now, period=2)\n",
    "        y = tdop.create_tdop(columns, values, date, now=now, period=None, decayfactor=7)\n",
    "        dates.append(now)\n",
    "        tdops.append(y)\n",
    "    dates = np.array(dates).astype('int64')\n",
    "    prices = np.array(x)\n",
    "    tdops = np.array(tdops)\n",
    "    \n",
    "    group = file.create_group(symbol)\n",
    "    group.create_dataset(\"dates\", dates.shape, data=dates)\n",
    "    group.create_dataset(\"prices\", prices.shape, data=prices)\n",
    "    group.create_dataset(\"tdop\", tdops.shape, data=tdops, compression=\"gzip\")"
   ]
  },
  {
   "cell_type": "code",
   "execution_count": 6,
   "metadata": {
    "collapsed": true
   },
   "outputs": [],
   "source": [
    "file.close()"
   ]
  },
  {
   "cell_type": "markdown",
   "metadata": {},
   "source": [
    "### Verification"
   ]
  },
  {
   "cell_type": "code",
   "execution_count": 47,
   "metadata": {
    "collapsed": true
   },
   "outputs": [],
   "source": [
    "file = open_file('h5py', fname, mode='r')"
   ]
  },
  {
   "cell_type": "code",
   "execution_count": 48,
   "metadata": {
    "collapsed": true
   },
   "outputs": [],
   "source": [
    "a=file['GC/tdop'].value"
   ]
  },
  {
   "cell_type": "code",
   "execution_count": 49,
   "metadata": {},
   "outputs": [
    {
     "data": {
      "text/plain": [
       "[<matplotlib.lines.Line2D at 0x2368ae82e80>]"
      ]
     },
     "execution_count": 49,
     "metadata": {},
     "output_type": "execute_result"
    },
    {
     "data": {
      "image/png": "[encoded data removed]",
      "text/plain": [
       "<matplotlib.figure.Figure at 0x23684177ba8>"
      ]
     },
     "metadata": {},
     "output_type": "display_data"
    }
   ],
   "source": [
    "plt.plot(a[-1000])\n",
    "#plt.axes().set_xlim([1000,4000])"
   ]
  },
  {
   "cell_type": "code",
   "execution_count": 42,
   "metadata": {
    "collapsed": true
   },
   "outputs": [],
   "source": [
    "file.close()"
   ]
  },
  {
   "cell_type": "code",
   "execution_count": 55,
   "metadata": {},
   "outputs": [
    {
     "name": "stdout",
     "output_type": "stream",
     "text": [
      "AD\n",
      "BP\n",
      "CC\n",
      "CD\n",
      "CL\n",
      "CT\n",
      "DX\n",
      "ED\n",
      "FBTP\n",
      "FDAX\n",
      "FESX\n",
      "FGBL\n",
      "FGBM\n",
      "FGBS\n",
      "GC\n",
      "HG\n",
      "HO\n",
      "JY\n",
      "KC\n",
      "LC\n",
      "LCO\n",
      "LGO\n",
      "LH\n",
      "NE\n",
      "NG\n",
      "NKD\n",
      "OJ\n",
      "PA\n",
      "PL\n",
      "SB\n",
      "SF\n",
      "SI\n",
      "URO\n",
      "WTCL\n",
      "ZB\n",
      "ZC\n",
      "ZF\n",
      "ZL\n",
      "ZM\n",
      "ZN\n",
      "ZO\n",
      "ZR\n",
      "ZS\n",
      "ZT\n",
      "ZW\n"
     ]
    }
   ],
   "source": [
    "for gp in raw_density.iter_nodes('/'):\n",
    "    print(gp._v_name)"
   ]
  },
  {
   "cell_type": "code",
   "execution_count": null,
   "metadata": {
    "collapsed": true
   },
   "outputs": [],
   "source": []
  }
 ],
 "metadata": {
  "kernelspec": {
   "display_name": "Python 3",
   "language": "python",
   "name": "python3"
  },
  "language_info": {
   "codemirror_mode": {
    "name": "ipython",
    "version": 3
   },
   "file_extension": ".py",
   "mimetype": "text/x-python",
   "name": "python",
   "nbconvert_exporter": "python",
   "pygments_lexer": "ipython3",
   "version": "3.6.2"
  }
 },
 "nbformat": 4,
 "nbformat_minor": 2
}
