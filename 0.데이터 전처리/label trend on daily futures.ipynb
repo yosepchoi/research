{
 "cells": [
  {
   "cell_type": "code",
   "execution_count": 6,
   "metadata": {},
   "outputs": [
    {
     "name": "stderr",
     "output_type": "stream",
     "text": [
      "Using TensorFlow backend.\n"
     ]
    }
   ],
   "source": [
    "%matplotlib inline\n",
    "import sys\n",
    "sys.path.append('..')\n",
    "import matplotlib.pyplot as plt\n",
    "import numpy as np\n",
    "import pandas as pd\n",
    "import csv\n",
    "from keras.models import load_model\n",
    "import glob\n",
    "import h5py"
   ]
  },
  {
   "cell_type": "code",
   "execution_count": 7,
   "metadata": {
    "collapsed": true
   },
   "outputs": [],
   "source": [
    "from modules.factory import norm"
   ]
  },
  {
   "cell_type": "code",
   "execution_count": 8,
   "metadata": {
    "collapsed": true
   },
   "outputs": [],
   "source": [
    "rawfile = '../data/raw data/daily_futures.h5'\n",
    "trainedfile = '../data/training set/40day_trend_labeled_futures.h5'\n",
    "modelfile = '../data/keras models/40day-trend.h5'"
   ]
  },
  {
   "cell_type": "code",
   "execution_count": 9,
   "metadata": {
    "collapsed": true
   },
   "outputs": [],
   "source": [
    "period = 40"
   ]
  },
  {
   "cell_type": "code",
   "execution_count": 10,
   "metadata": {},
   "outputs": [],
   "source": [
    "raw_file = h5py.File(rawfile, \"r\")\n",
    "trained_file = h5py.File(trainedfile, \"w\")"
   ]
  },
  {
   "cell_type": "code",
   "execution_count": 11,
   "metadata": {
    "collapsed": true
   },
   "outputs": [],
   "source": [
    "model = load_model(modelfile)"
   ]
  },
  {
   "cell_type": "code",
   "execution_count": 28,
   "metadata": {
    "scrolled": true
   },
   "outputs": [
    {
     "name": "stdout",
     "output_type": "stream",
     "text": [
      "processing CBOE VIX Futures...(0/75)\n",
      "processing CME Australian Dollar AUD...(1/75)\n",
      "processing CBOT Soybean Oil...(2/75)\n",
      "processing CME British Pound GBP...(3/75)\n",
      "processing CBOT Corn...(4/75)\n",
      "processing CME Canadian Dollar CAD...(5/75)\n",
      "processing NYMEX WTI Crude Oil...(6/75)\n",
      "processing CME Class III Milk...(7/75)\n",
      "processing CME Euro FX...(8/75)\n",
      "processing CME Eurodollar...(9/75)\n",
      "processing CME S&P 500 Index E-Mini...(10/75)\n",
      "processing CBOT 30-day Federal Funds...(11/75)\n",
      "processing CBOT 5-year US Treasury Note...(12/75)\n",
      "processing NYMEX Gold...(13/75)\n",
      "processing COMEX Copper...(14/75)\n",
      "processing NYMEX Heating Oil...(15/75)\n",
      "processing CME Japanese Yen JPY...(16/75)\n",
      "processing CME Kansas City Wheat...(17/75)\n",
      "processing CME Random Length Lumber...(18/75)\n",
      "processing CME Live Cattle...(19/75)\n",
      "processing CME Lean Hogs...(20/75)\n",
      "processing CME S&P 400 Midcap Index...(21/75)\n",
      "processing CME Mexican Peso...(22/75)\n",
      "processing CME New Zealand Dollar NZD...(23/75)\n",
      "processing NYMEX Natural Gas...(24/75)\n",
      "processing CME Nikkei 225...(25/75)\n",
      "processing CME NASDAQ 100 Index Mini...(26/75)\n",
      "processing CBOT Oats...(27/75)\n",
      "processing NYMEX Palladium...(28/75)\n",
      "processing NYMEX Platinum...(29/75)\n",
      "processing NYMEX Gasoline...(30/75)\n",
      "processing CBOT Rough Rice...(31/75)\n",
      "processing CBOT Soybeans...(32/75)\n",
      "processing CME Swiss Franc CHF...(33/75)\n",
      "processing NYMEX Silver...(34/75)\n",
      "processing CBOT Soybean Meal...(35/75)\n",
      "processing CME S&P 500 Index...(36/75)\n",
      "processing CBOT 2-year US Treasury Note...(37/75)\n",
      "processing CBOT 10-year US Treasury Note...(38/75)\n",
      "processing CBOT 30-year US Treasury Bond...(39/75)\n",
      "processing CBOT Wheat...(40/75)\n",
      "processing CME E-mini Dow Jones...(41/75)\n",
      "processing EUREX Euro-BTP...(42/75)\n",
      "processing EUREX DAX...(43/75)\n",
      "processing EUREX EURO STOXX 50 Index...(44/75)\n",
      "processing EUREX Euro-Bund...(45/75)\n",
      "processing EUREX Euro-Bobl...(46/75)\n",
      "processing EUREX Euro-Schatz...(47/75)\n",
      "processing ICE Rotterdam Coal...(48/75)\n",
      "processing ICE Brent Crude Oil...(49/75)\n",
      "processing ICE Cocoa...(50/75)\n",
      "processing ICE Cotton...(51/75)\n",
      "processing ICE US Dollar Index...(52/75)\n",
      "processing ICE Gasoil...(53/75)\n",
      "processing ICE Coffee C...(54/75)\n",
      "processing ICE UK Natural Gas...(55/75)\n",
      "processing ICE British Pound GBP...(56/75)\n",
      "processing ICE Heating Oil...(57/75)\n",
      "processing ICE Orange Juice...(58/75)\n",
      "processing ICE Russell 1000 Index Mini...(59/75)\n",
      "processing ICE Sugar No. 11...(60/75)\n",
      "processing ICE WTI Crude Oil...(61/75)\n",
      "processing ICE Russell 2000 Index Mini...(62/75)\n",
      "processing LIFFE London Cocoa...(63/75)\n",
      "processing LIFFE EURIBOR...(64/75)\n",
      "processing LIFFE Short Sterling...(65/75)\n",
      "processing LIFFE Long Gilt...(66/75)\n",
      "processing LIFFE FTSE 100 Index...(67/75)\n",
      "processing MGEX Hard Red Spring Wheat...(68/75)\n",
      "processing MX Montreal S&P/TSX 60 Index...(69/75)\n",
      "processing SHFE Aluminium...(70/75)\n",
      "processing SHFE Copper...(71/75)\n",
      "processing SHFE Rebar...(72/75)\n",
      "processing SHFE Natural Rubber...(73/75)\n",
      "processing SHFE Zinc...(74/75)\n"
     ]
    }
   ],
   "source": [
    "'''\n",
    "index N의 trend index는\n",
    "N-period 에서 N-1 동안의 period 일에 대한 trend index임\n",
    "\n",
    "'''\n",
    "\n",
    "for idx, file in enumerate(raw_file.values()):\n",
    "    name = file.attrs['name']\n",
    "    print(\"\\rprocessing %s...(%s/%s)\"%(name, idx, len(raw_file)),end='', flush=True)\n",
    "    columns = ['date', 'open','high','low','close','volume','open interest']\n",
    "    raw_data = pd.DataFrame(file.value, columns=columns)\n",
    "    trend=[np.nan for i in range(period)]\n",
    "    \n",
    "    for i in range(period, len(raw_data)):\n",
    "        data = raw_data[i-period:i][['open','high','low','close']]\n",
    "        data = norm(data)\n",
    "        \n",
    "        pred = model.predict(np.array([data.values]))\n",
    "        trend.append(pred[0].argmax())\n",
    "    raw_data['trend'] = pd.DataFrame(trend)\n",
    "    raw_data = raw_data[period:]\n",
    "    dset = trained_file.create_dataset(file.name, shape=raw_data.shape, data=raw_data.values)\n",
    "    dset.attrs['name'] = file.attrs['name']\n",
    "    dset.attrs['symbol'] = file.attrs['symbol']\n",
    "    dset.attrs['exchange'] = file.attrs['exchange']\n",
    "    dset.attrs['code'] = file.attrs['code']\n",
    "    "
   ]
  },
  {
   "cell_type": "code",
   "execution_count": 29,
   "metadata": {
    "collapsed": true
   },
   "outputs": [],
   "source": [
    "raw_file.close()\n",
    "trained_file.close()"
   ]
  },
  {
   "cell_type": "code",
   "execution_count": 30,
   "metadata": {
    "collapsed": true
   },
   "outputs": [],
   "source": [
    "from collections import Counter"
   ]
  },
  {
   "cell_type": "code",
   "execution_count": 32,
   "metadata": {},
   "outputs": [],
   "source": [
    "f = h5py.File(trainedfile, \"r\")"
   ]
  },
  {
   "cell_type": "code",
   "execution_count": 38,
   "metadata": {
    "collapsed": true
   },
   "outputs": [],
   "source": [
    "trend = np.array([])\n",
    "for file in f.values():\n",
    "    trend = np.append(trend, file.value[:,4])"
   ]
  },
  {
   "cell_type": "code",
   "execution_count": 42,
   "metadata": {},
   "outputs": [
    {
     "data": {
      "text/plain": [
       "Counter({0.0: 30492, 1.0: 105057, 2.0: 47026})"
      ]
     },
     "execution_count": 42,
     "metadata": {},
     "output_type": "execute_result"
    }
   ],
   "source": [
    "Counter(trend)"
   ]
  },
  {
   "cell_type": "code",
   "execution_count": 27,
   "metadata": {},
   "outputs": [
    {
     "data": {
      "text/plain": [
       "'None'"
      ]
     },
     "execution_count": 27,
     "metadata": {},
     "output_type": "execute_result"
    }
   ],
   "source": [
    "v.attrs['symbol']"
   ]
  },
  {
   "cell_type": "code",
   "execution_count": null,
   "metadata": {
    "collapsed": true
   },
   "outputs": [],
   "source": []
  }
 ],
 "metadata": {
  "kernelspec": {
   "display_name": "Python 3",
   "language": "python",
   "name": "python3"
  },
  "language_info": {
   "codemirror_mode": {
    "name": "ipython",
    "version": 3
   },
   "file_extension": ".py",
   "mimetype": "text/x-python",
   "name": "python",
   "nbconvert_exporter": "python",
   "pygments_lexer": "ipython3",
   "version": "3.6.2"
  }
 },
 "nbformat": 4,
 "nbformat_minor": 2
}
