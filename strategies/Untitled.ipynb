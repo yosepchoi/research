{
 "cells": [
  {
   "cell_type": "code",
   "execution_count": 14,
   "metadata": {},
   "outputs": [],
   "source": [
    "%matplotlib inline\n",
    "import sys\n",
    "sys.path.append('..')\n",
    "from modules.backtesting import BackTesting\n",
    "import pandas as pd\n",
    "from keras.models import load_model\n",
    "from modules.factory import norm, fmeasure, recall\n",
    "import h5py\n",
    "pd.options.display.float_format = '{:,.2f}'.format #화면에 소숫점 2번째 자리까지만 표시"
   ]
  },
  {
   "cell_type": "markdown",
   "metadata": {},
   "source": [
    "### 0. Parameters"
   ]
  },
  {
   "cell_type": "code",
   "execution_count": 12,
   "metadata": {
    "collapsed": true
   },
   "outputs": [],
   "source": [
    "predic_model_file= '../data/keras models/uptrend-predic(20-240-40).h5'\n",
    "raw_data_file = '../data/training set/daily-future-40day-trend.h5'"
   ]
  },
  {
   "cell_type": "code",
   "execution_count": 15,
   "metadata": {},
   "outputs": [],
   "source": [
    "predic_model = load_model(predic_model_file, custom_objects={'recall':recall, 'fmeasure':fmeasure})\n",
    "f = h5py.File(raw_data_file, 'r')\n",
    "FILES = [i[1] for i in f.items()]"
   ]
  },
  {
   "cell_type": "markdown",
   "metadata": {},
   "source": [
    "### 1. 전략구현"
   ]
  },
  {
   "cell_type": "code",
   "execution_count": 16,
   "metadata": {
    "collapsed": true
   },
   "outputs": [],
   "source": [
    "def strat(report):\n",
    "    data = report.data\n",
    "    data['ma20'] = data.Settle.rolling(10).mean()\n",
    "    data['ma60'] = data.Settle.rolling(60).mean()\n",
    "    data['cross'] = (data.ma20 > data.ma60).astype('int')\n",
    "    data['signal'] = data.cross.diff().shift(1)\n",
    "    data.dropna(inplace=True)\n",
    "    signals = data[(data.signal == 1) | (data.signal == -1)]\n",
    "        \n",
    "    for date, price, signal in signals[['Open','signal']].itertuples():\n",
    "        if signal == 1:\n",
    "            report.buy('Long', date, price)\n",
    "        elif signal == -1:\n",
    "            report.sell(date, price)"
   ]
  },
  {
   "cell_type": "code",
   "execution_count": null,
   "metadata": {
    "collapsed": true
   },
   "outputs": [],
   "source": []
  }
 ],
 "metadata": {
  "kernelspec": {
   "display_name": "Python 3",
   "language": "python",
   "name": "python3"
  },
  "language_info": {
   "codemirror_mode": {
    "name": "ipython",
    "version": 3
   },
   "file_extension": ".py",
   "mimetype": "text/x-python",
   "name": "python",
   "nbconvert_exporter": "python",
   "pygments_lexer": "ipython3",
   "version": "3.6.2"
  }
 },
 "nbformat": 4,
 "nbformat_minor": 2
}
