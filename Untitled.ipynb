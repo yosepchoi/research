{
 "cells": [
  {
   "cell_type": "code",
   "execution_count": 2,
   "metadata": {
    "collapsed": true
   },
   "outputs": [],
   "source": [
    "%matplotlib inline\n",
    "import sys\n",
    "import pandas as pd\n",
    "import numpy as np\n",
    "import sqlite3 as lite\n",
    "import matplotlib.pyplot as plt\n",
    "from matplotlib.ticker import FuncFormatter\n",
    "from collections import OrderedDict\n",
    "import time\n",
    "#from modules.backtesting import BackTester\n",
    "from modules.db_manager import open_file, product_info"
   ]
  },
  {
   "cell_type": "code",
   "execution_count": 3,
   "metadata": {
    "collapsed": true
   },
   "outputs": [],
   "source": [
    "pinfo = product_info()"
   ]
  },
  {
   "cell_type": "code",
   "execution_count": 6,
   "metadata": {},
   "outputs": [],
   "source": [
    "feed = open_file('h5py', 'training set/40day_trend_labeled_futures.h5', mode='r')"
   ]
  },
  {
   "cell_type": "code",
   "execution_count": 26,
   "metadata": {},
   "outputs": [],
   "source": [
    "columns = ['open','high','low','close','trend']"
   ]
  },
  {
   "cell_type": "code",
   "execution_count": 9,
   "metadata": {},
   "outputs": [
    {
     "data": {
      "text/plain": [
       "75"
      ]
     },
     "execution_count": 9,
     "metadata": {},
     "output_type": "execute_result"
    }
   ],
   "source": [
    "len(feed.keys())"
   ]
  },
  {
   "cell_type": "code",
   "execution_count": 13,
   "metadata": {},
   "outputs": [],
   "source": [
    "s=feed.keys()"
   ]
  },
  {
   "cell_type": "code",
   "execution_count": 49,
   "metadata": {},
   "outputs": [],
   "source": [
    "columns = ['open','high','low','close','trend']\n",
    "df = pd.DataFrame(columns=columns)\n",
    "for (cnt, value) in enumerate(feed.values()):\n",
    "    if cnt == 2:\n",
    "        break\n",
    "    if value.attrs['symbol'] == 'None':\n",
    "        continue\n",
    "    df2 = pd.DataFrame(value.value[:,[1,2,3,4,7]], index=value.value[:,0].astype('M8[s]'), columns=columns )\n",
    "    df = pd.concat([df, df2], axis=1)\n",
    "    #df = pd.DataFrame(value.value[:,[1,2,3,4,7]], index=value.value[:,0].astype('M8[s]'), columns=columns )"
   ]
  },
  {
   "cell_type": "code",
   "execution_count": 50,
   "metadata": {},
   "outputs": [
    {
     "data": {
      "text/html": [
       "<div>\n",
       "<style>\n",
       "    .dataframe thead tr:only-child th {\n",
       "        text-align: right;\n",
       "    }\n",
       "\n",
       "    .dataframe thead th {\n",
       "        text-align: left;\n",
       "    }\n",
       "\n",
       "    .dataframe tbody tr th {\n",
       "        vertical-align: top;\n",
       "    }\n",
       "</style>\n",
       "<table border=\"1\" class=\"dataframe\">\n",
       "  <thead>\n",
       "    <tr style=\"text-align: right;\">\n",
       "      <th></th>\n",
       "      <th>open</th>\n",
       "      <th>high</th>\n",
       "      <th>low</th>\n",
       "      <th>close</th>\n",
       "      <th>trend</th>\n",
       "      <th>open</th>\n",
       "      <th>high</th>\n",
       "      <th>low</th>\n",
       "      <th>close</th>\n",
       "      <th>trend</th>\n",
       "    </tr>\n",
       "  </thead>\n",
       "  <tbody>\n",
       "    <tr>\n",
       "      <th>2005-03-01</th>\n",
       "      <td>NaN</td>\n",
       "      <td>NaN</td>\n",
       "      <td>NaN</td>\n",
       "      <td>NaN</td>\n",
       "      <td>NaN</td>\n",
       "      <td>0.4902</td>\n",
       "      <td>0.4902</td>\n",
       "      <td>0.4821</td>\n",
       "      <td>0.4852</td>\n",
       "      <td>1.0</td>\n",
       "    </tr>\n",
       "    <tr>\n",
       "      <th>2005-03-02</th>\n",
       "      <td>NaN</td>\n",
       "      <td>NaN</td>\n",
       "      <td>NaN</td>\n",
       "      <td>NaN</td>\n",
       "      <td>NaN</td>\n",
       "      <td>0.4867</td>\n",
       "      <td>0.4871</td>\n",
       "      <td>0.4760</td>\n",
       "      <td>0.4827</td>\n",
       "      <td>2.0</td>\n",
       "    </tr>\n",
       "    <tr>\n",
       "      <th>2005-03-03</th>\n",
       "      <td>NaN</td>\n",
       "      <td>NaN</td>\n",
       "      <td>NaN</td>\n",
       "      <td>NaN</td>\n",
       "      <td>NaN</td>\n",
       "      <td>0.4818</td>\n",
       "      <td>0.4842</td>\n",
       "      <td>0.4794</td>\n",
       "      <td>0.4825</td>\n",
       "      <td>2.0</td>\n",
       "    </tr>\n",
       "    <tr>\n",
       "      <th>2005-03-04</th>\n",
       "      <td>NaN</td>\n",
       "      <td>NaN</td>\n",
       "      <td>NaN</td>\n",
       "      <td>NaN</td>\n",
       "      <td>NaN</td>\n",
       "      <td>0.4808</td>\n",
       "      <td>0.4925</td>\n",
       "      <td>0.4797</td>\n",
       "      <td>0.4898</td>\n",
       "      <td>2.0</td>\n",
       "    </tr>\n",
       "    <tr>\n",
       "      <th>2005-03-07</th>\n",
       "      <td>NaN</td>\n",
       "      <td>NaN</td>\n",
       "      <td>NaN</td>\n",
       "      <td>NaN</td>\n",
       "      <td>NaN</td>\n",
       "      <td>0.4890</td>\n",
       "      <td>0.4924</td>\n",
       "      <td>0.4879</td>\n",
       "      <td>0.4913</td>\n",
       "      <td>2.0</td>\n",
       "    </tr>\n",
       "  </tbody>\n",
       "</table>\n",
       "</div>"
      ],
      "text/plain": [
       "            open  high  low  close  trend    open    high     low   close  \\\n",
       "2005-03-01   NaN   NaN  NaN    NaN    NaN  0.4902  0.4902  0.4821  0.4852   \n",
       "2005-03-02   NaN   NaN  NaN    NaN    NaN  0.4867  0.4871  0.4760  0.4827   \n",
       "2005-03-03   NaN   NaN  NaN    NaN    NaN  0.4818  0.4842  0.4794  0.4825   \n",
       "2005-03-04   NaN   NaN  NaN    NaN    NaN  0.4808  0.4925  0.4797  0.4898   \n",
       "2005-03-07   NaN   NaN  NaN    NaN    NaN  0.4890  0.4924  0.4879  0.4913   \n",
       "\n",
       "            trend  \n",
       "2005-03-01    1.0  \n",
       "2005-03-02    2.0  \n",
       "2005-03-03    2.0  \n",
       "2005-03-04    2.0  \n",
       "2005-03-07    2.0  "
      ]
     },
     "execution_count": 50,
     "metadata": {},
     "output_type": "execute_result"
    }
   ],
   "source": [
    "df.head()"
   ]
  },
  {
   "cell_type": "code",
   "execution_count": 51,
   "metadata": {
    "collapsed": true
   },
   "outputs": [],
   "source": [
    "col = [['AC','AC','AC','AC','AC','ST','ST','ST','ST','ST'], columns+columns ]"
   ]
  },
  {
   "cell_type": "code",
   "execution_count": 52,
   "metadata": {},
   "outputs": [],
   "source": [
    "df.columns=col"
   ]
  },
  {
   "cell_type": "code",
   "execution_count": 53,
   "metadata": {},
   "outputs": [
    {
     "data": {
      "text/html": [
       "<div>\n",
       "<style>\n",
       "    .dataframe thead tr:only-child th {\n",
       "        text-align: right;\n",
       "    }\n",
       "\n",
       "    .dataframe thead th {\n",
       "        text-align: left;\n",
       "    }\n",
       "\n",
       "    .dataframe tbody tr th {\n",
       "        vertical-align: top;\n",
       "    }\n",
       "</style>\n",
       "<table border=\"1\" class=\"dataframe\">\n",
       "  <thead>\n",
       "    <tr>\n",
       "      <th></th>\n",
       "      <th colspan=\"5\" halign=\"left\">AC</th>\n",
       "      <th colspan=\"5\" halign=\"left\">ST</th>\n",
       "    </tr>\n",
       "    <tr>\n",
       "      <th></th>\n",
       "      <th>open</th>\n",
       "      <th>high</th>\n",
       "      <th>low</th>\n",
       "      <th>close</th>\n",
       "      <th>trend</th>\n",
       "      <th>open</th>\n",
       "      <th>high</th>\n",
       "      <th>low</th>\n",
       "      <th>close</th>\n",
       "      <th>trend</th>\n",
       "    </tr>\n",
       "  </thead>\n",
       "  <tbody>\n",
       "    <tr>\n",
       "      <th>2005-03-01</th>\n",
       "      <td>NaN</td>\n",
       "      <td>NaN</td>\n",
       "      <td>NaN</td>\n",
       "      <td>NaN</td>\n",
       "      <td>NaN</td>\n",
       "      <td>0.4902</td>\n",
       "      <td>0.4902</td>\n",
       "      <td>0.4821</td>\n",
       "      <td>0.4852</td>\n",
       "      <td>1.0</td>\n",
       "    </tr>\n",
       "    <tr>\n",
       "      <th>2005-03-02</th>\n",
       "      <td>NaN</td>\n",
       "      <td>NaN</td>\n",
       "      <td>NaN</td>\n",
       "      <td>NaN</td>\n",
       "      <td>NaN</td>\n",
       "      <td>0.4867</td>\n",
       "      <td>0.4871</td>\n",
       "      <td>0.4760</td>\n",
       "      <td>0.4827</td>\n",
       "      <td>2.0</td>\n",
       "    </tr>\n",
       "    <tr>\n",
       "      <th>2005-03-03</th>\n",
       "      <td>NaN</td>\n",
       "      <td>NaN</td>\n",
       "      <td>NaN</td>\n",
       "      <td>NaN</td>\n",
       "      <td>NaN</td>\n",
       "      <td>0.4818</td>\n",
       "      <td>0.4842</td>\n",
       "      <td>0.4794</td>\n",
       "      <td>0.4825</td>\n",
       "      <td>2.0</td>\n",
       "    </tr>\n",
       "    <tr>\n",
       "      <th>2005-03-04</th>\n",
       "      <td>NaN</td>\n",
       "      <td>NaN</td>\n",
       "      <td>NaN</td>\n",
       "      <td>NaN</td>\n",
       "      <td>NaN</td>\n",
       "      <td>0.4808</td>\n",
       "      <td>0.4925</td>\n",
       "      <td>0.4797</td>\n",
       "      <td>0.4898</td>\n",
       "      <td>2.0</td>\n",
       "    </tr>\n",
       "    <tr>\n",
       "      <th>2005-03-07</th>\n",
       "      <td>NaN</td>\n",
       "      <td>NaN</td>\n",
       "      <td>NaN</td>\n",
       "      <td>NaN</td>\n",
       "      <td>NaN</td>\n",
       "      <td>0.4890</td>\n",
       "      <td>0.4924</td>\n",
       "      <td>0.4879</td>\n",
       "      <td>0.4913</td>\n",
       "      <td>2.0</td>\n",
       "    </tr>\n",
       "  </tbody>\n",
       "</table>\n",
       "</div>"
      ],
      "text/plain": [
       "             AC                            ST                              \n",
       "           open high  low close trend    open    high     low   close trend\n",
       "2005-03-01  NaN  NaN  NaN   NaN   NaN  0.4902  0.4902  0.4821  0.4852   1.0\n",
       "2005-03-02  NaN  NaN  NaN   NaN   NaN  0.4867  0.4871  0.4760  0.4827   2.0\n",
       "2005-03-03  NaN  NaN  NaN   NaN   NaN  0.4818  0.4842  0.4794  0.4825   2.0\n",
       "2005-03-04  NaN  NaN  NaN   NaN   NaN  0.4808  0.4925  0.4797  0.4898   2.0\n",
       "2005-03-07  NaN  NaN  NaN   NaN   NaN  0.4890  0.4924  0.4879  0.4913   2.0"
      ]
     },
     "execution_count": 53,
     "metadata": {},
     "output_type": "execute_result"
    }
   ],
   "source": [
    "df.head()"
   ]
  },
  {
   "cell_type": "code",
   "execution_count": 116,
   "metadata": {},
   "outputs": [],
   "source": [
    "for k,i in df[:5].iterrows():\n",
    "    s=i"
   ]
  },
  {
   "cell_type": "code",
   "execution_count": 118,
   "metadata": {},
   "outputs": [
    {
     "data": {
      "text/plain": [
       "open     NaN\n",
       "high     NaN\n",
       "low      NaN\n",
       "close    NaN\n",
       "trend    NaN\n",
       "Name: 2005-03-07 00:00:00, dtype: object"
      ]
     },
     "execution_count": 118,
     "metadata": {},
     "output_type": "execute_result"
    }
   ],
   "source": [
    "s['AC']"
   ]
  },
  {
   "cell_type": "code",
   "execution_count": null,
   "metadata": {
    "collapsed": true
   },
   "outputs": [],
   "source": [
    "print(\"trading started. it takes few minutes...\")\n",
    "        columns = self.feed.attrs['columns'].split(';')\n",
    "        for idx, raw in enumerate(self.feed.values()):\n",
    "            symbol = raw.attrs['symbol']\n",
    "            #이베스트 미거래종목 제외\n",
    "            if symbol == 'None' or not symbol:\n",
    "                continue\n",
    "\n",
    "            else:\n",
    "                data = pd.DataFrame(raw.value[:,1:], index=raw.value[:,0].astype('M8[s]'), columns=columns[1:])\n",
    "                data.insert(0,'date', data.index)\n",
    "                \n",
    "                inst = Instrument(data, self.products[symbol], self.principal)\n",
    "                self.strategy(inst)\n",
    "                inst.run_trade()\n",
    "                self.insts.append(inst)\n",
    "\n",
    "                print(f'\\rprocessing..({idx})', end='', flush=True)"
   ]
  }
 ],
 "metadata": {
  "kernelspec": {
   "display_name": "Python 3",
   "language": "python",
   "name": "python3"
  },
  "language_info": {
   "codemirror_mode": {
    "name": "ipython",
    "version": 3
   },
   "file_extension": ".py",
   "mimetype": "text/x-python",
   "name": "python",
   "nbconvert_exporter": "python",
   "pygments_lexer": "ipython3",
   "version": "3.6.2"
  }
 },
 "nbformat": 4,
 "nbformat_minor": 2
}
