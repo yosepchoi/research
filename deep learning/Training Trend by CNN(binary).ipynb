{
 "cells": [
  {
   "cell_type": "code",
   "execution_count": 1,
   "metadata": {
    "collapsed": true
   },
   "outputs": [],
   "source": [
    "%matplotlib inline\n",
    "import matplotlib.pyplot as plt\n",
    "import tensorflow as tf\n",
    "import numpy as np\n",
    "from IPython.display import clear_output\n",
    "import time"
   ]
  },
  {
   "cell_type": "code",
   "execution_count": 2,
   "metadata": {
    "collapsed": true
   },
   "outputs": [],
   "source": [
    "class Model:\n",
    "\n",
    "    def __init__(self, sess, name, learning_rate=0.001, period=120):\n",
    "        self.sess = sess\n",
    "        self.name = name\n",
    "        self._build_net(period, learning_rate)\n",
    "        \n",
    "\n",
    "    def _build_net(self, period, learning_rate):\n",
    "        with tf.variable_scope(self.name):\n",
    "            # dropout (keep_prob) rate  0.7~0.5 on training, but should be 1\n",
    "            # for testing\n",
    "            self.training = tf.placeholder(tf.bool)\n",
    "\n",
    "            # input place holders\n",
    "            self.X = tf.placeholder(tf.float32, [None, period, 4])\n",
    "\n",
    "            # 120x4 (OHLC), Input Layer\n",
    "            ohlc = tf.reshape(self.X, [-1, period,  4])\n",
    "            # 3(down trend, neither, up trend), ouput layer\n",
    "            self.Y = tf.placeholder(tf.float32, [None, 2])\n",
    "\n",
    "            # Convolutional Layer #1\n",
    "            conv1 = tf.layers.conv1d(inputs=ohlc, filters=32, kernel_size=5, padding=\"same\", activation=tf.nn.relu)\n",
    "            # Pooling Layer #1\n",
    "            #pool1 = tf.layers.max_pooling1d(inputs=conv1, pool_size=1, padding=\"same\", strides=1)\n",
    "            dropout1 = tf.layers.dropout(inputs=conv1, rate=0.7, training=self.training)\n",
    "\n",
    "            # Convolutional Layer #2 and Pooling Layer #2\n",
    "            conv2 = tf.layers.conv1d(inputs=dropout1, filters=64, kernel_size=5, padding=\"same\", activation=tf.nn.relu)\n",
    "            #pool2 = tf.layers.max_pooling1d(inputs=conv2, pool_size=1, padding=\"same\", strides=2)\n",
    "            dropout2 = tf.layers.dropout(inputs=conv2, rate=0.7, training=self.training)\n",
    "\n",
    "            # Convolutional Layer #3 and Pooling Layer #3\n",
    "            conv3 = tf.layers.conv1d(inputs=dropout2, filters=128, kernel_size=5, padding=\"same\", activation=tf.nn.relu)\n",
    "            #pool3 = tf.layers.max_pooling1d(inputs=conv3, pool_size=1, padding=\"same\", strides=1)\n",
    "            dropout3 = tf.layers.dropout(inputs=conv3, rate=0.7, training=self.training)\n",
    "\n",
    "            # Dense Layer with Relu\n",
    "            size = np.prod(dropout3.shape.as_list()[1:])\n",
    "            flat = tf.reshape(dropout3, [-1, size])\n",
    "            dense4 = tf.layers.dense(inputs=flat, units=1024, activation=tf.nn.relu)\n",
    "            dropout4 = tf.layers.dropout(inputs=dense4, rate=0.5, training=self.training)\n",
    "\n",
    "            # Logits (no activation) Layer: L5 Final FC 1024 inputs -> 3 outputs\n",
    "            self.logits = tf.layers.dense(inputs=dropout4, units=2)\n",
    "\n",
    "        # define cost/loss & optimizer\n",
    "        self.cost = tf.reduce_mean(tf.nn.softmax_cross_entropy_with_logits(logits=self.logits, labels=self.Y))\n",
    "        self.optimizer = tf.train.AdamOptimizer(learning_rate=learning_rate).minimize(self.cost)\n",
    "\n",
    "        correct_prediction = tf.equal(tf.argmax(self.logits, 1), tf.argmax(self.Y, 1))\n",
    "        self.accuracy = tf.reduce_mean(tf.cast(correct_prediction, tf.float32))\n",
    "\n",
    "    def predict(self, x_test, training=False):\n",
    "        return self.sess.run(self.logits, feed_dict={self.X: x_test, self.training: training})\n",
    "\n",
    "    def get_accuracy(self, x_test, y_test, training=False):\n",
    "        return self.sess.run(self.accuracy, feed_dict={self.X: x_test, self.Y: y_test, self.training: training})\n",
    "\n",
    "    def train(self, x_data, y_data, training=True):\n",
    "        return self.sess.run([self.cost, self.optimizer], feed_dict={self.X: x_data, self.Y: y_data, self.training: training})"
   ]
  },
  {
   "cell_type": "markdown",
   "metadata": {},
   "source": [
    "### 1. 데이터 불러오기"
   ]
  },
  {
   "cell_type": "code",
   "execution_count": 49,
   "metadata": {
    "collapsed": true
   },
   "outputs": [],
   "source": [
    "xy = np.genfromtxt('data/120day_trend(normed_by_globalstd)_1.csv', delimiter=',', dtype=np.float32)"
   ]
  },
  {
   "cell_type": "markdown",
   "metadata": {},
   "source": [
    "##### Data Reconstruction"
   ]
  },
  {
   "cell_type": "code",
   "execution_count": 59,
   "metadata": {},
   "outputs": [],
   "source": [
    "test_len = 100\n",
    "length = xy.shape[0]\n",
    "\n",
    "X_Data = np.stack( (xy[0::4, :-1], xy[1::4, :-1], xy[2::4, :-1], xy[3::4, :-1]), axis=-1)\n",
    "# y 데이터 구조 변경: 0~2 --> [1,0,0], [0,1,0], [0,0,1]\n",
    "y = xy[::4, -1].astype(np.int16)\n",
    "\n",
    "# trend result\n",
    "uptrend = downtrend = np.zeros((y.size, 2))\n",
    "uptrend[np.arange(y.size), np.where(y==2, 1, 0)] = 1\n",
    "downtrend[np.arange(y.size), np.where(y==0, 1, 0)] = 1\n",
    "\n",
    "#s = (y[y>0] = 1)\n",
    "#Y_Data = np.zeros((y.size, 2))\n",
    "#Y_Data[np.arange(y.size), y] = 1\n",
    "\n",
    "#train data\n",
    "X_Train = X_Data[test_len:]\n",
    "Y_Train = Y_Data[test_len:]\n",
    "X_Test = X_Data[:test_len]\n",
    "Y_Test = Y_Data[:test_len]"
   ]
  },
  {
   "cell_type": "code",
   "execution_count": 61,
   "metadata": {
    "collapsed": true
   },
   "outputs": [],
   "source": [
    "# initialize\n",
    "sess = tf.Session()"
   ]
  },
  {
   "cell_type": "code",
   "execution_count": 62,
   "metadata": {
    "collapsed": true
   },
   "outputs": [],
   "source": [
    "up_model = Model(sess, \"uptrend\")\n",
    "down_model = Model(sess, \"downtrend\")"
   ]
  },
  {
   "cell_type": "code",
   "execution_count": 5,
   "metadata": {},
   "outputs": [
    {
     "name": "stdout",
     "output_type": "stream",
     "text": [
      "INFO:tensorflow:Restoring parameters from tf/120day_trend_weight.ckpt\n"
     ]
    }
   ],
   "source": [
    "#saver = tf.train.Saver()\n",
    "#s=saver.restore(sess, \"tf/120day_trend_weight.ckpt\")"
   ]
  },
  {
   "cell_type": "code",
   "execution_count": 17,
   "metadata": {
    "collapsed": true,
    "scrolled": true
   },
   "outputs": [],
   "source": [
    "sess.run(tf.global_variables_initializer())"
   ]
  },
  {
   "cell_type": "code",
   "execution_count": 21,
   "metadata": {
    "scrolled": true
   },
   "outputs": [
    {
     "name": "stdout",
     "output_type": "stream",
     "text": [
      "step:  0 cost:  0.0383082  (2.69 sec)\n",
      "step:  100 cost:  0.0352384  (319.44 sec)\n",
      "step:  200 cost:  0.0132907  (322.91 sec)\n"
     ]
    },
    {
     "ename": "NameError",
     "evalue": "name 'save_path' is not defined",
     "output_type": "error",
     "traceback": [
      "\u001b[1;31m---------------------------------------------------------------------------\u001b[0m",
      "\u001b[1;31mNameError\u001b[0m                                 Traceback (most recent call last)",
      "\u001b[1;32m<ipython-input-21-81a69a7f057a>\u001b[0m in \u001b[0;36m<module>\u001b[1;34m()\u001b[0m\n\u001b[0;32m      7\u001b[0m         \u001b[0mprint\u001b[0m\u001b[1;33m(\u001b[0m\u001b[1;34m'step: '\u001b[0m\u001b[1;33m,\u001b[0m \u001b[0mstep\u001b[0m\u001b[1;33m,\u001b[0m \u001b[1;34m'cost: '\u001b[0m\u001b[1;33m,\u001b[0m \u001b[0mc\u001b[0m \u001b[1;33m,\u001b[0m \u001b[1;34m' (%.2f sec)'\u001b[0m\u001b[1;33m%\u001b[0m\u001b[0mtimediff\u001b[0m\u001b[1;33m)\u001b[0m\u001b[1;33m\u001b[0m\u001b[0m\n\u001b[0;32m      8\u001b[0m \u001b[1;31m#save_path = saver.save(sess, \"tf/120day_trend_weight.ckpt\")\u001b[0m\u001b[1;33m\u001b[0m\u001b[1;33m\u001b[0m\u001b[0m\n\u001b[1;32m----> 9\u001b[1;33m \u001b[0mprint\u001b[0m\u001b[1;33m(\u001b[0m\u001b[1;34m\"Model saved in file: %s\"\u001b[0m \u001b[1;33m%\u001b[0m \u001b[0msave_path\u001b[0m\u001b[1;33m)\u001b[0m\u001b[1;33m\u001b[0m\u001b[0m\n\u001b[0m",
      "\u001b[1;31mNameError\u001b[0m: name 'save_path' is not defined"
     ]
    }
   ],
   "source": [
    "timer = time.time()\n",
    "for step in range(300):\n",
    "    c, _ = m1.train(X_Train, Y_Train)\n",
    "    if step % 100 == 0:\n",
    "        timediff = time.time() - timer\n",
    "        timer = time.time()\n",
    "        print('step: ', step, 'cost: ', c , ' (%.2f sec)'%timediff)\n",
    "#save_path = saver.save(sess, \"tf/120day_trend_weight.ckpt\")\n",
    "#print(\"Model saved in file: %s\" % save_path)"
   ]
  },
  {
   "cell_type": "code",
   "execution_count": 22,
   "metadata": {
    "scrolled": true
   },
   "outputs": [
    {
     "name": "stdout",
     "output_type": "stream",
     "text": [
      "Accuracy: 0.93\n"
     ]
    }
   ],
   "source": [
    "print('Accuracy:', m1.get_accuracy(X_Test, Y_Test))"
   ]
  },
  {
   "cell_type": "markdown",
   "metadata": {},
   "source": [
    "### 2. 테스트"
   ]
  },
  {
   "cell_type": "markdown",
   "metadata": {},
   "source": [
    "##### 1) 테스트 데이터"
   ]
  },
  {
   "cell_type": "code",
   "execution_count": null,
   "metadata": {},
   "outputs": [
    {
     "name": "stdout",
     "output_type": "stream",
     "text": [
      "real:  1\n",
      "pred: 1\n",
      "[[  1.86053654e-07   9.99999762e-01   9.92644231e-11]]\n"
     ]
    },
    {
     "data": {
      "image/png": "[encoded data removed]",
      "text/plain": [
       "<matplotlib.figure.Figure at 0x1fc76e17978>"
      ]
     },
     "metadata": {},
     "output_type": "display_data"
    }
   ],
   "source": [
    "for num in range(1):\n",
    "    #num = np.random.randint(0,len(test_X))\n",
    "    data = X_Test[num]\n",
    "    real = np.argmax(Y_Test[num])\n",
    "    pred = m1.predict([X_Test[num]])\n",
    "    \n",
    "    print('real: ', real)\n",
    "    print('pred:', np.argmax(pred))\n",
    "    print(pred)\n",
    "    plt.plot(data)\n",
    "    plt.show()\n",
    "    input()\n",
    "    clear_output(wait=True)"
   ]
  },
  {
   "cell_type": "markdown",
   "metadata": {},
   "source": [
    "##### 2) 실 데이터"
   ]
  },
  {
   "cell_type": "code",
   "execution_count": 8,
   "metadata": {
    "collapsed": true
   },
   "outputs": [],
   "source": [
    "def westerncandlestick(ax, quotes, width=0.2, colorup='r', colordown='k', \n",
    "                 linewidth=0.5):\n",
    "\n",
    "    OFFSET = width / 2.0\n",
    "\n",
    "    lines = []\n",
    "    openlines = []\n",
    "    closelines = []\n",
    "    for q in quotes:\n",
    "        t, open, high, low, close = q[:5]\n",
    "\n",
    "        if close >= open:\n",
    "            color = colorup\n",
    "        else:\n",
    "            color = colordown\n",
    "\n",
    "        vline = Line2D( xdata=(t, t), ydata=(low, high),\n",
    "            color=color, linewidth=linewidth, antialiased=True)\n",
    "        lines.append(vline)\n",
    "\n",
    "        openline = Line2D(xdata=(t - OFFSET, t), ydata=(open,open),\n",
    "                          color=color, linewidth=linewidth, antialiased=True)\n",
    "        openlines.append(openline)\n",
    "\n",
    "        closeline = Line2D(xdata=(t , t+OFFSET), ydata=(close,close),\n",
    "                          color=color, linewidth=linewidth, antialiased=True)\n",
    "        closelines.append(closeline)\n",
    "\n",
    "        ax.add_line(vline)\n",
    "        ax.add_line(openline)\n",
    "        ax.add_line(closeline)\n",
    "    \n",
    "    ax.axhline(linewidth=1, color='g')\n",
    "    ax.axvline(x=int(t/2), linewidth=1, color='g')\n",
    "    ax.autoscale_view()\n",
    "\n",
    "    return lines, openlines, closelines"
   ]
  },
  {
   "cell_type": "code",
   "execution_count": 9,
   "metadata": {
    "collapsed": true
   },
   "outputs": [],
   "source": [
    "#실 데이터 테스트\n",
    "import quandl\n",
    "import pandas as pd\n",
    "from matplotlib.lines import Line2D\n",
    "quandl.ApiConfig.api_key = \"UzB-e5CDdoACq4ENxbVS\"\n",
    "window = 240\n",
    "df = pd.read_csv('data/SCF-datasets-codes.csv')\n",
    "codes_tmp = []\n",
    "contents = []\n",
    "for idx, code, content in df.itertuples():\n",
    "    if code[-4:] == '1_OB':\n",
    "        codes_tmp.append(code)\n",
    "        contents.append(content)\n",
    "codes = pd.DataFrame()\n",
    "codes['code'] = codes_tmp\n",
    "codes['contents'] = contents"
   ]
  },
  {
   "cell_type": "code",
   "execution_count": null,
   "metadata": {},
   "outputs": [
    {
     "name": "stdout",
     "output_type": "stream",
     "text": [
      "CBOT Rough Rice Futures #1 (RR1) - Front Month - Backwards Panama Adjusted Prices, Roll on Open Interest Switc\n"
     ]
    },
    {
     "data": {
      "image/png": "[encoded data removed]",
      "text/plain": [
       "<matplotlib.figure.Figure at 0x1cf99569358>"
      ]
     },
     "metadata": {},
     "output_type": "display_data"
    },
    {
     "name": "stdout",
     "output_type": "stream",
     "text": [
      "pred: 1\n",
      "[[-25.13899994  15.85700035  -2.94400001]]\n",
      "prob:  [[ 0.  1.  0.]]\n"
     ]
    }
   ],
   "source": [
    "window = 120\n",
    "while True:\n",
    "    idx = np.random.randint(0, len(codes))\n",
    "    code = codes.iloc[idx].code\n",
    "    content = codes.iloc[idx].contents\n",
    "\n",
    "    raw_data = quandl.get(code)\n",
    "    raw_data.drop(['Volume', 'Prev. Day Open Interest'], axis=1, inplace=True)\n",
    "    std = raw_data.Settle.std()\n",
    "    length = len(raw_data)\n",
    "    \n",
    "    for i in range(10):\n",
    "        print(content[:-30])\n",
    "        \n",
    "        #시작일자 랜덤 설정\n",
    "        start = np.random.randint(0, length -  window)\n",
    "        end = start + window\n",
    "\n",
    "        #Data Normalization\n",
    "        data = raw_data[start:end]\n",
    "        data = (data-data.Settle.mean())/std\n",
    "        data.insert(0, 'index', np.arange(len(data)))\n",
    "        \n",
    "        #그래프 \n",
    "        fig, (ax) = plt.subplots(2,1, gridspec_kw = {'height_ratios':[1, 2]}, figsize=(8,9))\n",
    "        fig.autofmt_xdate()\n",
    "            \n",
    "        ax[0].plot(raw_data.index.values, raw_data.Settle.values)\n",
    "        ax[0].axvspan(raw_data.index.values[start], raw_data.index.values[end], facecolor='y', alpha=0.3)\n",
    "        \n",
    "        westerncandlestick(ax[1], data.values, linewidth=1.44)\n",
    "        plt.show()\n",
    "        \n",
    "        #추세\n",
    "        time.sleep(0.1)\n",
    "        \n",
    "        temp = data.drop('index', axis=1).values.T\n",
    "        test_data = np.stack( (temp[0::4, :], temp[1::4, :], temp[2::4, :], temp[3::4, :]), axis=-1)\n",
    "        pred = m1.predict(test_data)\n",
    "    \n",
    "        print('pred:', np.argmax(pred))\n",
    "        print(np.round(pred,3))\n",
    "        print('prob: ', np.round(sess.run(tf.nn.softmax(pred)),3))\n",
    "        key = input()\n",
    "        \n",
    "        clear_output(wait=True)\n",
    "        if key == 'q':\n",
    "            break\n",
    "    if key == 'q':\n",
    "            break\n",
    "    clear_output(wait=True)"
   ]
  },
  {
   "cell_type": "code",
   "execution_count": 39,
   "metadata": {},
   "outputs": [
    {
     "data": {
      "text/plain": [
       "array([[  6.31562500e-08,   9.99999881e-01,   3.38847349e-21]], dtype=float32)"
      ]
     },
     "execution_count": 39,
     "metadata": {},
     "output_type": "execute_result"
    }
   ],
   "source": [
    "sess.run(tf.nn.softmax(pred))"
   ]
  }
 ],
 "metadata": {
  "kernelspec": {
   "display_name": "Python 3",
   "language": "python",
   "name": "python3"
  },
  "language_info": {
   "codemirror_mode": {
    "name": "ipython",
    "version": 3
   },
   "file_extension": ".py",
   "mimetype": "text/x-python",
   "name": "python",
   "nbconvert_exporter": "python",
   "pygments_lexer": "ipython3",
   "version": "3.6.1"
  }
 },
 "nbformat": 4,
 "nbformat_minor": 2
}
