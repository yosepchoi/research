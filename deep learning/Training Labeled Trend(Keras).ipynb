{
 "cells": [
  {
   "cell_type": "code",
   "execution_count": 1,
   "metadata": {},
   "outputs": [
    {
     "name": "stderr",
     "output_type": "stream",
     "text": [
      "Using TensorFlow backend.\n"
     ]
    }
   ],
   "source": [
    "%matplotlib inline\n",
    "import sys\n",
    "sys.path.append('..')\n",
    "import matplotlib.pyplot as plt\n",
    "import numpy as np\n",
    "import pandas as pd \n",
    "import h5py\n",
    "from collections import Counter\n",
    "import keras\n",
    "from keras.models import Sequential\n",
    "from keras.layers import Dense, Dropout, Flatten\n",
    "from keras.layers import Conv1D, AveragePooling1D\n",
    "from keras import backend as K"
   ]
  },
  {
   "cell_type": "markdown",
   "metadata": {},
   "source": [
    "### 0. parameters"
   ]
  },
  {
   "cell_type": "code",
   "execution_count": 2,
   "metadata": {
    "collapsed": true
   },
   "outputs": [],
   "source": [
    "num_classes = 3\n",
    "num_dims = 4\n",
    "epochs = 50\n",
    "batch_size=10"
   ]
  },
  {
   "cell_type": "markdown",
   "metadata": {},
   "source": [
    "### 1. Data loading and reconstruction"
   ]
  },
  {
   "cell_type": "code",
   "execution_count": 3,
   "metadata": {
    "collapsed": true
   },
   "outputs": [],
   "source": [
    "training_file = '../data/training set/trend-40day-absdiff.h5'\n",
    "file = h5py.File(training_file, 'r')"
   ]
  },
  {
   "cell_type": "code",
   "execution_count": 4,
   "metadata": {
    "collapsed": true
   },
   "outputs": [],
   "source": [
    "X, Y = file['X'].value, file['Y'].value"
   ]
  },
  {
   "cell_type": "code",
   "execution_count": 5,
   "metadata": {
    "collapsed": true
   },
   "outputs": [],
   "source": [
    "Y = keras.utils.to_categorical(Y, num_classes)"
   ]
  },
  {
   "cell_type": "code",
   "execution_count": 6,
   "metadata": {},
   "outputs": [
    {
     "name": "stdout",
     "output_type": "stream",
     "text": [
      "x_train shape: (352, 40, 4)\n",
      "352 train samples\n",
      "151 test samples\n"
     ]
    }
   ],
   "source": [
    "#train data\n",
    "length = int(len(X)*0.7)\n",
    "x_train, x_test = X[:length], X[length:]\n",
    "y_train, y_test = Y[:length], Y[length:]\n",
    "\n",
    "#verification\n",
    "print('x_train shape:', x_train.shape)\n",
    "print(x_train.shape[0], 'train samples')\n",
    "print(x_test.shape[0], 'test samples')"
   ]
  },
  {
   "cell_type": "markdown",
   "metadata": {},
   "source": [
    "### 2. Construct Model"
   ]
  },
  {
   "cell_type": "code",
   "execution_count": 9,
   "metadata": {
    "collapsed": true
   },
   "outputs": [],
   "source": [
    "input_shape = X.shape[1:]"
   ]
  },
  {
   "cell_type": "code",
   "execution_count": 10,
   "metadata": {
    "collapsed": true
   },
   "outputs": [],
   "source": [
    "model = Sequential()\n",
    "model.add(Conv1D(32, 3, input_shape=input_shape, activation='relu'))\n",
    "model.add(Conv1D(64, 3, activation='relu'))\n",
    "model.add(Dropout(0.25))\n",
    "model.add(Conv1D(128, 3, activation='relu'))\n",
    "#model.add(AveragePooling1D(pool_size=2))\n",
    "model.add(Dropout(0.25))\n",
    "model.add(Flatten())\n",
    "model.add(Dense(256, activation='relu'))\n",
    "model.add(Dropout(0.5))\n",
    "model.add(Dense(num_classes, activation='softmax'))"
   ]
  },
  {
   "cell_type": "code",
   "execution_count": 11,
   "metadata": {
    "collapsed": true
   },
   "outputs": [],
   "source": [
    "model.compile(loss='categorical_crossentropy',\n",
    "              optimizer='adam',\n",
    "              metrics=['accuracy'])"
   ]
  },
  {
   "cell_type": "markdown",
   "metadata": {},
   "source": [
    "### 3. Train"
   ]
  },
  {
   "cell_type": "code",
   "execution_count": 14,
   "metadata": {
    "scrolled": true
   },
   "outputs": [
    {
     "name": "stdout",
     "output_type": "stream",
     "text": [
      "Epoch 1/1\n",
      "503/503 [==============================] - 1s - loss: 0.0035 - acc: 0.9980     \n"
     ]
    },
    {
     "data": {
      "text/plain": [
       "<keras.callbacks.History at 0x192a5cd8358>"
      ]
     },
     "execution_count": 14,
     "metadata": {},
     "output_type": "execute_result"
    }
   ],
   "source": [
    "model.fit(X, Y, batch_size=16, epochs=1, verbose=1)"
   ]
  },
  {
   "cell_type": "markdown",
   "metadata": {},
   "source": [
    "### 4. Accuracy"
   ]
  },
  {
   "cell_type": "code",
   "execution_count": 15,
   "metadata": {
    "scrolled": true
   },
   "outputs": [
    {
     "name": "stdout",
     "output_type": "stream",
     "text": [
      "\r",
      " 32/151 [=====>........................] - ETA: 0s"
     ]
    }
   ],
   "source": [
    "score = model.evaluate(x_test, y_test, verbose=1)"
   ]
  },
  {
   "cell_type": "code",
   "execution_count": 16,
   "metadata": {},
   "outputs": [
    {
     "name": "stdout",
     "output_type": "stream",
     "text": [
      "Test loss: 3.22101695447e-05\n",
      "Test accuracy: 1.0\n"
     ]
    }
   ],
   "source": [
    "print('Test loss:', score[0])\n",
    "print('Test accuracy:', score[1])"
   ]
  },
  {
   "cell_type": "markdown",
   "metadata": {},
   "source": [
    "### 5. Save to File"
   ]
  },
  {
   "cell_type": "code",
   "execution_count": 7,
   "metadata": {
    "collapsed": true
   },
   "outputs": [],
   "source": [
    "save_path = '../data/keras models/40day-trend.h5'"
   ]
  },
  {
   "cell_type": "code",
   "execution_count": 23,
   "metadata": {
    "collapsed": true
   },
   "outputs": [],
   "source": [
    "model.save(save_path)"
   ]
  },
  {
   "cell_type": "code",
   "execution_count": 8,
   "metadata": {},
   "outputs": [],
   "source": [
    "model = keras.models.load_model(save_path)"
   ]
  },
  {
   "cell_type": "code",
   "execution_count": 9,
   "metadata": {},
   "outputs": [
    {
     "name": "stdout",
     "output_type": "stream",
     "text": [
      "_________________________________________________________________\n",
      "Layer (type)                 Output Shape              Param #   \n",
      "=================================================================\n",
      "conv1d_1 (Conv1D)            (None, 38, 32)            416       \n",
      "_________________________________________________________________\n",
      "conv1d_2 (Conv1D)            (None, 36, 64)            6208      \n",
      "_________________________________________________________________\n",
      "dropout_1 (Dropout)          (None, 36, 64)            0         \n",
      "_________________________________________________________________\n",
      "conv1d_3 (Conv1D)            (None, 34, 128)           24704     \n",
      "_________________________________________________________________\n",
      "dropout_2 (Dropout)          (None, 34, 128)           0         \n",
      "_________________________________________________________________\n",
      "flatten_1 (Flatten)          (None, 4352)              0         \n",
      "_________________________________________________________________\n",
      "dense_1 (Dense)              (None, 256)               1114368   \n",
      "_________________________________________________________________\n",
      "dropout_3 (Dropout)          (None, 256)               0         \n",
      "_________________________________________________________________\n",
      "dense_2 (Dense)              (None, 3)                 771       \n",
      "=================================================================\n",
      "Total params: 1,146,467\n",
      "Trainable params: 1,146,467\n",
      "Non-trainable params: 0\n",
      "_________________________________________________________________\n"
     ]
    }
   ],
   "source": [
    "model.summary()"
   ]
  },
  {
   "cell_type": "markdown",
   "metadata": {},
   "source": [
    "### 6. Test Real Data"
   ]
  },
  {
   "cell_type": "code",
   "execution_count": 9,
   "metadata": {
    "collapsed": true
   },
   "outputs": [],
   "source": [
    "from IPython.display import clear_output\n",
    "import time\n",
    "from glob import glob\n",
    "from modules.factory import ohlc_chart, norm"
   ]
  },
  {
   "cell_type": "code",
   "execution_count": 10,
   "metadata": {
    "collapsed": true
   },
   "outputs": [],
   "source": [
    "FILES = glob('../data/daily futures/*.csv')"
   ]
  },
  {
   "cell_type": "code",
   "execution_count": null,
   "metadata": {},
   "outputs": [
    {
     "name": "stdout",
     "output_type": "stream",
     "text": [
      "../data/daily futures\\CBOT 2-year US Treasury Note.csv\n"
     ]
    },
    {
     "data": {
      "image/png": "[encoded data removed]",
      "text/plain": [
       "<matplotlib.figure.Figure at 0x25713337438>"
      ]
     },
     "metadata": {},
     "output_type": "display_data"
    },
    {
     "name": "stdout",
     "output_type": "stream",
     "text": [
      "pred: 1\n",
      "[[ 0.          0.58999997  0.41      ]]\n"
     ]
    }
   ],
   "source": [
    "WINDOW = 40\n",
    "while True:\n",
    "    idx = np.random.randint(0, len(FILES))\n",
    "\n",
    "    raw_data  = pd.read_csv(FILES[idx])\n",
    "    raw_data.drop(['Date', 'Volume','Prev. Day Open Interest'], axis=1, inplace=True)\n",
    "    length = len(raw_data)\n",
    "    \n",
    "    \n",
    "    for i in range(10):\n",
    "        print(FILES[idx])\n",
    "        #시작일자 랜덤 설정\n",
    "        start = np.random.randint(0, length -  WINDOW)\n",
    "        end = start + WINDOW\n",
    "        data= raw_data[start:end]\n",
    "            \n",
    "        #Data Normalization\n",
    "        base = np.abs(data.diff()).mean()\n",
    "        data = norm(data)\n",
    "        \n",
    "        #그래프 \n",
    "        fig, (ax) = plt.subplots(2,1, gridspec_kw = {'height_ratios':[1, 1]}, figsize=(8,12))\n",
    "        fig.autofmt_xdate()\n",
    "        \n",
    "        if start < 240:\n",
    "            start0 = 0\n",
    "        else:\n",
    "            start0 = start - 240\n",
    "            \n",
    "        if end + 60 < len(raw_data):\n",
    "            end0 = end + 60\n",
    "        else:\n",
    "            end0 = len(raw_data)\n",
    "        \n",
    "        ax[0].plot(raw_data.index.values[start0:end0], raw_data.Settle.values[start0:end0])\n",
    "        ax[0].axvspan(raw_data.index.values[start], raw_data.index.values[end], facecolor='y', alpha=0.3)\n",
    "        \n",
    "        ohlc_data = np.concatenate((np.arange(len(data)).reshape(-1, 1), raw_data[start:end].values), axis=1)\n",
    "        #ax[1].plot(data.index.values, data.values)\n",
    "        ohlc_chart(ax[1], ohlc_data, linewidth=1.44)\n",
    "        mean = raw_data[start:end].Settle.mean()\n",
    "        ax[1].axhline(y=mean, linewidth=1.2, color='g')\n",
    "        ymin = raw_data.Open.iloc[start]-base.Settle*3\n",
    "        ymax = raw_data.Open.iloc[start]+base.Settle*3\n",
    "        ax[1].axhspan(ymin, ymax, alpha=0.3, color='y')\n",
    "        ax[1].axhline(y=raw_data.Open.iloc[start], linewidth=1.2, color='red')\n",
    "        ax[1].axvline(x=int(len(data)/2), linewidth=1, color='g')\n",
    "        plt.show()\n",
    "        \n",
    "        #추세\n",
    "        time.sleep(0.1)\n",
    "        \n",
    "        #temp = data.values.T\n",
    "        #test_data = np.stack( (temp[0::4, :], temp[1::4, :], temp[2::4, :], temp[3::4, :]), axis=-1)\n",
    "        pred = model.predict(np.array([data.values]))\n",
    "    \n",
    "        print('pred:', np.argmax(pred[0]))\n",
    "        print(np.round(pred,3))\n",
    "        #print('prob: ', np.round(sess.run(tf.nn.softmax(pred)),3))\n",
    "        key = input()\n",
    "        \n",
    "        clear_output(wait=True)\n",
    "        if key == 'q':\n",
    "            break\n",
    "    if key == 'q':\n",
    "            break\n",
    "    clear_output(wait=True)"
   ]
  },
  {
   "cell_type": "code",
   "execution_count": 77,
   "metadata": {},
   "outputs": [
    {
     "data": {
      "text/plain": [
       "(1, 20, 4)"
      ]
     },
     "execution_count": 77,
     "metadata": {},
     "output_type": "execute_result"
    }
   ],
   "source": [
    "np.array([data.values]).shape"
   ]
  },
  {
   "cell_type": "code",
   "execution_count": null,
   "metadata": {
    "collapsed": true
   },
   "outputs": [],
   "source": []
  }
 ],
 "metadata": {
  "kernelspec": {
   "display_name": "Python 3",
   "language": "python",
   "name": "python3"
  },
  "language_info": {
   "codemirror_mode": {
    "name": "ipython",
    "version": 3
   },
   "file_extension": ".py",
   "mimetype": "text/x-python",
   "name": "python",
   "nbconvert_exporter": "python",
   "pygments_lexer": "ipython3",
   "version": "3.6.2"
  }
 },
 "nbformat": 4,
 "nbformat_minor": 2
}
