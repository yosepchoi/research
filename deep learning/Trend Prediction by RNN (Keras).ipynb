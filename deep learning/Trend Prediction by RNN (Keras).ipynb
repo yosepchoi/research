{
 "cells": [
  {
   "cell_type": "code",
   "execution_count": 1,
   "metadata": {},
   "outputs": [
    {
     "name": "stderr",
     "output_type": "stream",
     "text": [
      "Using TensorFlow backend.\n"
     ]
    }
   ],
   "source": [
    "%matplotlib inline\n",
    "import sys\n",
    "sys.path.append('..')\n",
    "\n",
    "from glob import glob\n",
    "import numpy as np\n",
    "import pandas as pd\n",
    "import matplotlib.pyplot as plt\n",
    "import h5py\n",
    "import keras.backend as K\n",
    "from keras.models import Sequential, load_model\n",
    "from keras.layers import Dense, LSTM, Conv1D, AveragePooling1D, Dropout, Flatten\n",
    "from keras.utils import to_categorical"
   ]
  },
  {
   "cell_type": "code",
   "execution_count": 98,
   "metadata": {
    "collapsed": true
   },
   "outputs": [],
   "source": [
    "from modules.factory import norm, fmeasure, recall, matthews_correlation\n",
    "from collections import Counter\n",
    "from sklearn.utils import shuffle\n",
    "from sklearn.metrics import roc_curve, auc, f1_score\n",
    "from IPython.display import clear_output"
   ]
  },
  {
   "cell_type": "markdown",
   "metadata": {},
   "source": [
    "### 0. Parameters"
   ]
  },
  {
   "cell_type": "code",
   "execution_count": 89,
   "metadata": {
    "collapsed": true
   },
   "outputs": [],
   "source": [
    "modelfile = '../data/keras models/20day-trend.h5'\n",
    "rawfile = '../data/training set/daily-future-20day-3classes.h5'\n",
    "savefile = '../data/keras models/20day-trend-prediction.h5'\n",
    "seq_length = 120\n",
    "trend_period = 20\n",
    "num_classes = 2"
   ]
  },
  {
   "cell_type": "markdown",
   "metadata": {},
   "source": [
    "### 1. Data Loading & Reconstruction"
   ]
  },
  {
   "cell_type": "markdown",
   "metadata": {},
   "source": [
    "#### A. Constructing Data"
   ]
  },
  {
   "cell_type": "code",
   "execution_count": 7,
   "metadata": {
    "collapsed": true
   },
   "outputs": [],
   "source": [
    "f = h5py.File(rawfile, 'r')"
   ]
  },
  {
   "cell_type": "code",
   "execution_count": 8,
   "metadata": {
    "collapsed": true
   },
   "outputs": [],
   "source": [
    "FILES = shuffle([i[1] for i in f.items()], random_state=1)"
   ]
  },
  {
   "cell_type": "code",
   "execution_count": 91,
   "metadata": {
    "scrolled": true
   },
   "outputs": [
    {
     "name": "stdout",
     "output_type": "stream",
     "text": [
      "Wall time: 2min 31s\n"
     ]
    }
   ],
   "source": [
    "%%time\n",
    "X=[]\n",
    "Y=[]\n",
    "for idx,file in enumerate(FILES[30:40]):\n",
    "    print('processing...(%s)'%idx)\n",
    "    raw_data = pd.DataFrame(file.value, \n",
    "                            columns=['open','high','low','close','trend'])\n",
    "    raw_data['ema5'] = raw_data.close/raw_data.close.ewm(span=5).mean()\n",
    "    raw_data['ema20']= raw_data.close/raw_data.close.ewm(span=20).mean()\n",
    "    raw_data['ema60']= raw_data.close/raw_data.close.ewm(span=60).mean()\n",
    "    for i in range(len(raw_data)-seq_length-trend_period):\n",
    "        seq_data = raw_data[i:i+seq_length]\n",
    "        normed = norm(seq_data[['open','high','low','close']], ntype='zscore')\n",
    "        normed['ema5'] = raw_data.ema5[i:i+seq_length]\n",
    "        normed['ema20'] = raw_data.ema20[i:i+seq_length]\n",
    "        normed['ema60'] = raw_data.ema60[i:i+seq_length]\n",
    "        normed['trend'] = seq_data['trend']\n",
    "    \n",
    "        X.append(normed.values)\n",
    "        Y.append(raw_data.trend.iloc[i+seq_length+trend_period]+1)\n",
    "    clear_output(wait=True)\n",
    "#X = np.array(X)\n",
    "#Y = np.round(np.array(Y))\n",
    "#X,Y = shuffle(X,Y)"
   ]
  },
  {
   "cell_type": "code",
   "execution_count": 92,
   "metadata": {},
   "outputs": [],
   "source": [
    "X=np.array(X)\n",
    "Y=np.array(Y)\n",
    "#Y=np.where(np.array(Y)==2, 1, 0)\n",
    "Y = to_categorical(Y)\n",
    "X,Y = shuffle(X,Y)"
   ]
  },
  {
   "cell_type": "code",
   "execution_count": 85,
   "metadata": {
    "collapsed": true
   },
   "outputs": [],
   "source": [
    "x_train, y_train = X,Y"
   ]
  },
  {
   "cell_type": "code",
   "execution_count": 61,
   "metadata": {
    "collapsed": true
   },
   "outputs": [],
   "source": [
    "# seperate into train and test data\n",
    "length = int(len(X) * 0.7)\n",
    "x_train, x_test = X[:length], X[length:]\n",
    "y_train, y_test = Y[:length], Y[length:]"
   ]
  },
  {
   "cell_type": "code",
   "execution_count": 50,
   "metadata": {},
   "outputs": [
    {
     "data": {
      "text/plain": [
       "Counter({0.0: 1267, 1.0: 3290, 2.0: 1976})"
      ]
     },
     "execution_count": 50,
     "metadata": {},
     "output_type": "execute_result"
    }
   ],
   "source": [
    "Counter(y_test)"
   ]
  },
  {
   "cell_type": "markdown",
   "metadata": {},
   "source": [
    "### 2. Build a Model"
   ]
  },
  {
   "cell_type": "code",
   "execution_count": 51,
   "metadata": {
    "collapsed": true
   },
   "outputs": [],
   "source": [
    "model = Sequential()\n",
    "model.add(Conv1D(32, 4, input_shape=X.shape[1:], activation='relu'))\n",
    "model.add(AveragePooling1D(pool_size=4))\n",
    "model.add(Conv1D(64, 4, activation='relu'))\n",
    "model.add(AveragePooling1D(pool_size=4))\n",
    "\n",
    "model.add(Dropout(0.25))\n",
    "model.add(LSTM(128, \n",
    "               return_sequences=False,\n",
    "               dropout=0.2, recurrent_dropout=0.2))"
   ]
  },
  {
   "cell_type": "code",
   "execution_count": 52,
   "metadata": {
    "collapsed": true
   },
   "outputs": [],
   "source": [
    "model.add(Dense(256, activation='relu'))\n",
    "model.add(Dense(3, activation='softmax'))"
   ]
  },
  {
   "cell_type": "code",
   "execution_count": 53,
   "metadata": {
    "collapsed": true
   },
   "outputs": [],
   "source": [
    "model.compile(loss='categorical_crossentropy',\n",
    "              optimizer='adam',\n",
    "              metrics = [matthews_correlation, recall, fmeasure])"
   ]
  },
  {
   "cell_type": "markdown",
   "metadata": {},
   "source": [
    "### 3. Training"
   ]
  },
  {
   "cell_type": "code",
   "execution_count": 109,
   "metadata": {
    "scrolled": true
   },
   "outputs": [
    {
     "name": "stdout",
     "output_type": "stream",
     "text": [
      "Epoch 1/40\n",
      "65089/65089 [==============================] - 85s - loss: 0.7140 - matthews_correlation: 0.6232 - recall: 0.7162 - fmeasure: 0.7424    \n",
      "Epoch 2/40\n",
      "46576/65089 [====================>.........] - ETA: 24s - loss: 0.7005 - matthews_correlation: 0.6319 - recall: 0.7243 - fmeasure: 0.7487"
     ]
    },
    {
     "ename": "KeyboardInterrupt",
     "evalue": "",
     "output_type": "error",
     "traceback": [
      "\u001b[1;31m---------------------------------------------------------------------------\u001b[0m",
      "\u001b[1;31mKeyboardInterrupt\u001b[0m                         Traceback (most recent call last)",
      "\u001b[1;32m<ipython-input-109-4bd81c8678a5>\u001b[0m in \u001b[0;36m<module>\u001b[1;34m()\u001b[0m\n\u001b[1;32m----> 1\u001b[1;33m \u001b[0mhistory\u001b[0m \u001b[1;33m=\u001b[0m \u001b[0mmodel\u001b[0m\u001b[1;33m.\u001b[0m\u001b[0mfit\u001b[0m\u001b[1;33m(\u001b[0m\u001b[0mx_train\u001b[0m\u001b[1;33m,\u001b[0m \u001b[0my_train\u001b[0m\u001b[1;33m,\u001b[0m \u001b[0mepochs\u001b[0m\u001b[1;33m=\u001b[0m\u001b[1;36m40\u001b[0m\u001b[1;33m,\u001b[0m \u001b[0mbatch_size\u001b[0m\u001b[1;33m=\u001b[0m\u001b[1;36m16\u001b[0m\u001b[1;33m,\u001b[0m \u001b[0mverbose\u001b[0m\u001b[1;33m=\u001b[0m\u001b[1;36m1\u001b[0m\u001b[1;33m,\u001b[0m \u001b[0mclass_weight\u001b[0m\u001b[1;33m=\u001b[0m\u001b[1;33m{\u001b[0m\u001b[1;36m0\u001b[0m\u001b[1;33m:\u001b[0m\u001b[1;36m1.5\u001b[0m\u001b[1;33m,\u001b[0m\u001b[1;36m1\u001b[0m\u001b[1;33m:\u001b[0m\u001b[1;36m1\u001b[0m\u001b[1;33m,\u001b[0m\u001b[1;36m2\u001b[0m\u001b[1;33m:\u001b[0m\u001b[1;36m1.5\u001b[0m\u001b[1;33m}\u001b[0m\u001b[1;33m)\u001b[0m\u001b[1;33m\u001b[0m\u001b[0m\n\u001b[0m",
      "\u001b[1;32mC:\\Python\\Miniconda64\\lib\\site-packages\\keras\\models.py\u001b[0m in \u001b[0;36mfit\u001b[1;34m(self, x, y, batch_size, epochs, verbose, callbacks, validation_split, validation_data, shuffle, class_weight, sample_weight, initial_epoch, **kwargs)\u001b[0m\n\u001b[0;32m    861\u001b[0m                               \u001b[0mclass_weight\u001b[0m\u001b[1;33m=\u001b[0m\u001b[0mclass_weight\u001b[0m\u001b[1;33m,\u001b[0m\u001b[1;33m\u001b[0m\u001b[0m\n\u001b[0;32m    862\u001b[0m                               \u001b[0msample_weight\u001b[0m\u001b[1;33m=\u001b[0m\u001b[0msample_weight\u001b[0m\u001b[1;33m,\u001b[0m\u001b[1;33m\u001b[0m\u001b[0m\n\u001b[1;32m--> 863\u001b[1;33m                               initial_epoch=initial_epoch)\n\u001b[0m\u001b[0;32m    864\u001b[0m \u001b[1;33m\u001b[0m\u001b[0m\n\u001b[0;32m    865\u001b[0m     def evaluate(self, x, y, batch_size=32, verbose=1,\n",
      "\u001b[1;32mC:\\Python\\Miniconda64\\lib\\site-packages\\keras\\engine\\training.py\u001b[0m in \u001b[0;36mfit\u001b[1;34m(self, x, y, batch_size, epochs, verbose, callbacks, validation_split, validation_data, shuffle, class_weight, sample_weight, initial_epoch, **kwargs)\u001b[0m\n\u001b[0;32m   1428\u001b[0m                               \u001b[0mval_f\u001b[0m\u001b[1;33m=\u001b[0m\u001b[0mval_f\u001b[0m\u001b[1;33m,\u001b[0m \u001b[0mval_ins\u001b[0m\u001b[1;33m=\u001b[0m\u001b[0mval_ins\u001b[0m\u001b[1;33m,\u001b[0m \u001b[0mshuffle\u001b[0m\u001b[1;33m=\u001b[0m\u001b[0mshuffle\u001b[0m\u001b[1;33m,\u001b[0m\u001b[1;33m\u001b[0m\u001b[0m\n\u001b[0;32m   1429\u001b[0m                               \u001b[0mcallback_metrics\u001b[0m\u001b[1;33m=\u001b[0m\u001b[0mcallback_metrics\u001b[0m\u001b[1;33m,\u001b[0m\u001b[1;33m\u001b[0m\u001b[0m\n\u001b[1;32m-> 1430\u001b[1;33m                               initial_epoch=initial_epoch)\n\u001b[0m\u001b[0;32m   1431\u001b[0m \u001b[1;33m\u001b[0m\u001b[0m\n\u001b[0;32m   1432\u001b[0m     \u001b[1;32mdef\u001b[0m \u001b[0mevaluate\u001b[0m\u001b[1;33m(\u001b[0m\u001b[0mself\u001b[0m\u001b[1;33m,\u001b[0m \u001b[0mx\u001b[0m\u001b[1;33m,\u001b[0m \u001b[0my\u001b[0m\u001b[1;33m,\u001b[0m \u001b[0mbatch_size\u001b[0m\u001b[1;33m=\u001b[0m\u001b[1;36m32\u001b[0m\u001b[1;33m,\u001b[0m \u001b[0mverbose\u001b[0m\u001b[1;33m=\u001b[0m\u001b[1;36m1\u001b[0m\u001b[1;33m,\u001b[0m \u001b[0msample_weight\u001b[0m\u001b[1;33m=\u001b[0m\u001b[1;32mNone\u001b[0m\u001b[1;33m)\u001b[0m\u001b[1;33m:\u001b[0m\u001b[1;33m\u001b[0m\u001b[0m\n",
      "\u001b[1;32mC:\\Python\\Miniconda64\\lib\\site-packages\\keras\\engine\\training.py\u001b[0m in \u001b[0;36m_fit_loop\u001b[1;34m(self, f, ins, out_labels, batch_size, epochs, verbose, callbacks, val_f, val_ins, shuffle, callback_metrics, initial_epoch)\u001b[0m\n\u001b[0;32m   1077\u001b[0m                 \u001b[0mbatch_logs\u001b[0m\u001b[1;33m[\u001b[0m\u001b[1;34m'size'\u001b[0m\u001b[1;33m]\u001b[0m \u001b[1;33m=\u001b[0m \u001b[0mlen\u001b[0m\u001b[1;33m(\u001b[0m\u001b[0mbatch_ids\u001b[0m\u001b[1;33m)\u001b[0m\u001b[1;33m\u001b[0m\u001b[0m\n\u001b[0;32m   1078\u001b[0m                 \u001b[0mcallbacks\u001b[0m\u001b[1;33m.\u001b[0m\u001b[0mon_batch_begin\u001b[0m\u001b[1;33m(\u001b[0m\u001b[0mbatch_index\u001b[0m\u001b[1;33m,\u001b[0m \u001b[0mbatch_logs\u001b[0m\u001b[1;33m)\u001b[0m\u001b[1;33m\u001b[0m\u001b[0m\n\u001b[1;32m-> 1079\u001b[1;33m                 \u001b[0mouts\u001b[0m \u001b[1;33m=\u001b[0m \u001b[0mf\u001b[0m\u001b[1;33m(\u001b[0m\u001b[0mins_batch\u001b[0m\u001b[1;33m)\u001b[0m\u001b[1;33m\u001b[0m\u001b[0m\n\u001b[0m\u001b[0;32m   1080\u001b[0m                 \u001b[1;32mif\u001b[0m \u001b[1;32mnot\u001b[0m \u001b[0misinstance\u001b[0m\u001b[1;33m(\u001b[0m\u001b[0mouts\u001b[0m\u001b[1;33m,\u001b[0m \u001b[0mlist\u001b[0m\u001b[1;33m)\u001b[0m\u001b[1;33m:\u001b[0m\u001b[1;33m\u001b[0m\u001b[0m\n\u001b[0;32m   1081\u001b[0m                     \u001b[0mouts\u001b[0m \u001b[1;33m=\u001b[0m \u001b[1;33m[\u001b[0m\u001b[0mouts\u001b[0m\u001b[1;33m]\u001b[0m\u001b[1;33m\u001b[0m\u001b[0m\n",
      "\u001b[1;32mC:\\Python\\Miniconda64\\lib\\site-packages\\keras\\backend\\tensorflow_backend.py\u001b[0m in \u001b[0;36m__call__\u001b[1;34m(self, inputs)\u001b[0m\n\u001b[0;32m   2266\u001b[0m         updated = session.run(self.outputs + [self.updates_op],\n\u001b[0;32m   2267\u001b[0m                               \u001b[0mfeed_dict\u001b[0m\u001b[1;33m=\u001b[0m\u001b[0mfeed_dict\u001b[0m\u001b[1;33m,\u001b[0m\u001b[1;33m\u001b[0m\u001b[0m\n\u001b[1;32m-> 2268\u001b[1;33m                               **self.session_kwargs)\n\u001b[0m\u001b[0;32m   2269\u001b[0m         \u001b[1;32mreturn\u001b[0m \u001b[0mupdated\u001b[0m\u001b[1;33m[\u001b[0m\u001b[1;33m:\u001b[0m\u001b[0mlen\u001b[0m\u001b[1;33m(\u001b[0m\u001b[0mself\u001b[0m\u001b[1;33m.\u001b[0m\u001b[0moutputs\u001b[0m\u001b[1;33m)\u001b[0m\u001b[1;33m]\u001b[0m\u001b[1;33m\u001b[0m\u001b[0m\n\u001b[0;32m   2270\u001b[0m \u001b[1;33m\u001b[0m\u001b[0m\n",
      "\u001b[1;32mC:\\Python\\Miniconda64\\lib\\site-packages\\tensorflow\\python\\client\\session.py\u001b[0m in \u001b[0;36mrun\u001b[1;34m(self, fetches, feed_dict, options, run_metadata)\u001b[0m\n\u001b[0;32m    787\u001b[0m     \u001b[1;32mtry\u001b[0m\u001b[1;33m:\u001b[0m\u001b[1;33m\u001b[0m\u001b[0m\n\u001b[0;32m    788\u001b[0m       result = self._run(None, fetches, feed_dict, options_ptr,\n\u001b[1;32m--> 789\u001b[1;33m                          run_metadata_ptr)\n\u001b[0m\u001b[0;32m    790\u001b[0m       \u001b[1;32mif\u001b[0m \u001b[0mrun_metadata\u001b[0m\u001b[1;33m:\u001b[0m\u001b[1;33m\u001b[0m\u001b[0m\n\u001b[0;32m    791\u001b[0m         \u001b[0mproto_data\u001b[0m \u001b[1;33m=\u001b[0m \u001b[0mtf_session\u001b[0m\u001b[1;33m.\u001b[0m\u001b[0mTF_GetBuffer\u001b[0m\u001b[1;33m(\u001b[0m\u001b[0mrun_metadata_ptr\u001b[0m\u001b[1;33m)\u001b[0m\u001b[1;33m\u001b[0m\u001b[0m\n",
      "\u001b[1;32mC:\\Python\\Miniconda64\\lib\\site-packages\\tensorflow\\python\\client\\session.py\u001b[0m in \u001b[0;36m_run\u001b[1;34m(self, handle, fetches, feed_dict, options, run_metadata)\u001b[0m\n\u001b[0;32m    995\u001b[0m     \u001b[1;32mif\u001b[0m \u001b[0mfinal_fetches\u001b[0m \u001b[1;32mor\u001b[0m \u001b[0mfinal_targets\u001b[0m\u001b[1;33m:\u001b[0m\u001b[1;33m\u001b[0m\u001b[0m\n\u001b[0;32m    996\u001b[0m       results = self._do_run(handle, final_targets, final_fetches,\n\u001b[1;32m--> 997\u001b[1;33m                              feed_dict_string, options, run_metadata)\n\u001b[0m\u001b[0;32m    998\u001b[0m     \u001b[1;32melse\u001b[0m\u001b[1;33m:\u001b[0m\u001b[1;33m\u001b[0m\u001b[0m\n\u001b[0;32m    999\u001b[0m       \u001b[0mresults\u001b[0m \u001b[1;33m=\u001b[0m \u001b[1;33m[\u001b[0m\u001b[1;33m]\u001b[0m\u001b[1;33m\u001b[0m\u001b[0m\n",
      "\u001b[1;32mC:\\Python\\Miniconda64\\lib\\site-packages\\tensorflow\\python\\client\\session.py\u001b[0m in \u001b[0;36m_do_run\u001b[1;34m(self, handle, target_list, fetch_list, feed_dict, options, run_metadata)\u001b[0m\n\u001b[0;32m   1130\u001b[0m     \u001b[1;32mif\u001b[0m \u001b[0mhandle\u001b[0m \u001b[1;32mis\u001b[0m \u001b[1;32mNone\u001b[0m\u001b[1;33m:\u001b[0m\u001b[1;33m\u001b[0m\u001b[0m\n\u001b[0;32m   1131\u001b[0m       return self._do_call(_run_fn, self._session, feed_dict, fetch_list,\n\u001b[1;32m-> 1132\u001b[1;33m                            target_list, options, run_metadata)\n\u001b[0m\u001b[0;32m   1133\u001b[0m     \u001b[1;32melse\u001b[0m\u001b[1;33m:\u001b[0m\u001b[1;33m\u001b[0m\u001b[0m\n\u001b[0;32m   1134\u001b[0m       return self._do_call(_prun_fn, self._session, handle, feed_dict,\n",
      "\u001b[1;32mC:\\Python\\Miniconda64\\lib\\site-packages\\tensorflow\\python\\client\\session.py\u001b[0m in \u001b[0;36m_do_call\u001b[1;34m(self, fn, *args)\u001b[0m\n\u001b[0;32m   1137\u001b[0m   \u001b[1;32mdef\u001b[0m \u001b[0m_do_call\u001b[0m\u001b[1;33m(\u001b[0m\u001b[0mself\u001b[0m\u001b[1;33m,\u001b[0m \u001b[0mfn\u001b[0m\u001b[1;33m,\u001b[0m \u001b[1;33m*\u001b[0m\u001b[0margs\u001b[0m\u001b[1;33m)\u001b[0m\u001b[1;33m:\u001b[0m\u001b[1;33m\u001b[0m\u001b[0m\n\u001b[0;32m   1138\u001b[0m     \u001b[1;32mtry\u001b[0m\u001b[1;33m:\u001b[0m\u001b[1;33m\u001b[0m\u001b[0m\n\u001b[1;32m-> 1139\u001b[1;33m       \u001b[1;32mreturn\u001b[0m \u001b[0mfn\u001b[0m\u001b[1;33m(\u001b[0m\u001b[1;33m*\u001b[0m\u001b[0margs\u001b[0m\u001b[1;33m)\u001b[0m\u001b[1;33m\u001b[0m\u001b[0m\n\u001b[0m\u001b[0;32m   1140\u001b[0m     \u001b[1;32mexcept\u001b[0m \u001b[0merrors\u001b[0m\u001b[1;33m.\u001b[0m\u001b[0mOpError\u001b[0m \u001b[1;32mas\u001b[0m \u001b[0me\u001b[0m\u001b[1;33m:\u001b[0m\u001b[1;33m\u001b[0m\u001b[0m\n\u001b[0;32m   1141\u001b[0m       \u001b[0mmessage\u001b[0m \u001b[1;33m=\u001b[0m \u001b[0mcompat\u001b[0m\u001b[1;33m.\u001b[0m\u001b[0mas_text\u001b[0m\u001b[1;33m(\u001b[0m\u001b[0me\u001b[0m\u001b[1;33m.\u001b[0m\u001b[0mmessage\u001b[0m\u001b[1;33m)\u001b[0m\u001b[1;33m\u001b[0m\u001b[0m\n",
      "\u001b[1;32mC:\\Python\\Miniconda64\\lib\\site-packages\\tensorflow\\python\\client\\session.py\u001b[0m in \u001b[0;36m_run_fn\u001b[1;34m(session, feed_dict, fetch_list, target_list, options, run_metadata)\u001b[0m\n\u001b[0;32m   1119\u001b[0m         return tf_session.TF_Run(session, options,\n\u001b[0;32m   1120\u001b[0m                                  \u001b[0mfeed_dict\u001b[0m\u001b[1;33m,\u001b[0m \u001b[0mfetch_list\u001b[0m\u001b[1;33m,\u001b[0m \u001b[0mtarget_list\u001b[0m\u001b[1;33m,\u001b[0m\u001b[1;33m\u001b[0m\u001b[0m\n\u001b[1;32m-> 1121\u001b[1;33m                                  status, run_metadata)\n\u001b[0m\u001b[0;32m   1122\u001b[0m \u001b[1;33m\u001b[0m\u001b[0m\n\u001b[0;32m   1123\u001b[0m     \u001b[1;32mdef\u001b[0m \u001b[0m_prun_fn\u001b[0m\u001b[1;33m(\u001b[0m\u001b[0msession\u001b[0m\u001b[1;33m,\u001b[0m \u001b[0mhandle\u001b[0m\u001b[1;33m,\u001b[0m \u001b[0mfeed_dict\u001b[0m\u001b[1;33m,\u001b[0m \u001b[0mfetch_list\u001b[0m\u001b[1;33m)\u001b[0m\u001b[1;33m:\u001b[0m\u001b[1;33m\u001b[0m\u001b[0m\n",
      "\u001b[1;31mKeyboardInterrupt\u001b[0m: "
     ]
    }
   ],
   "source": [
    "history = model.fit(x_train, y_train, epochs=40, batch_size=16, verbose=1, class_weight={0:1.5,1:1,2:1.5})"
   ]
  },
  {
   "cell_type": "code",
   "execution_count": 87,
   "metadata": {},
   "outputs": [
    {
     "data": {
      "text/plain": [
       "[<matplotlib.lines.Line2D at 0x1733d375940>]"
      ]
     },
     "execution_count": 87,
     "metadata": {},
     "output_type": "execute_result"
    },
    {
     "data": {
      "image/png": "[encoded data removed]",
      "text/plain": [
       "<matplotlib.figure.Figure at 0x1733d375748>"
      ]
     },
     "metadata": {},
     "output_type": "display_data"
    }
   ],
   "source": [
    "plt.plot(history.history['fmeasure'])\n",
    "plt.plot(history.history['recall'])"
   ]
  },
  {
   "cell_type": "code",
   "execution_count": 102,
   "metadata": {
    "scrolled": true
   },
   "outputs": [
    {
     "name": "stdout",
     "output_type": "stream",
     "text": [
      "22800/22883 [============================>.] - ETA: 0s\n",
      "Test score: [1.3551180605855442, 0.22894197343342143, 0.45535988102870162, 0.47352272065292311]\n"
     ]
    }
   ],
   "source": [
    "score = model.evaluate(X, Y, batch_size=10)\n",
    "print('\\nTest score:', score)"
   ]
  },
  {
   "cell_type": "code",
   "execution_count": 90,
   "metadata": {
    "collapsed": true
   },
   "outputs": [],
   "source": [
    "model.save(savefile)"
   ]
  },
  {
   "cell_type": "markdown",
   "metadata": {},
   "source": [
    "### 4. Verification - ROC curve"
   ]
  },
  {
   "cell_type": "code",
   "execution_count": 93,
   "metadata": {},
   "outputs": [
    {
     "name": "stdout",
     "output_type": "stream",
     "text": [
      "22848/22883 [============================>.] - ETA: 0s"
     ]
    }
   ],
   "source": [
    "predic = model.predict(X, verbose=1)"
   ]
  },
  {
   "cell_type": "code",
   "execution_count": 94,
   "metadata": {},
   "outputs": [
    {
     "data": {
      "text/plain": [
       "array([[  5.20471986e-07,   1.29842653e-03,   9.98700976e-01],\n",
       "       [  3.19589317e-01,   6.78252637e-01,   2.15810584e-03],\n",
       "       [  1.89306170e-01,   7.26931572e-01,   8.37621838e-02],\n",
       "       ..., \n",
       "       [  1.10514872e-02,   9.10626352e-01,   7.83222467e-02],\n",
       "       [  1.88137919e-01,   5.74781477e-01,   2.37080544e-01],\n",
       "       [  4.37954161e-03,   1.85808346e-01,   8.09812129e-01]], dtype=float32)"
      ]
     },
     "execution_count": 94,
     "metadata": {},
     "output_type": "execute_result"
    }
   ],
   "source": [
    "predic"
   ]
  },
  {
   "cell_type": "code",
   "execution_count": 95,
   "metadata": {},
   "outputs": [
    {
     "data": {
      "text/plain": [
       "Counter({0: 3583, 1: 13541, 2: 5759})"
      ]
     },
     "execution_count": 95,
     "metadata": {},
     "output_type": "execute_result"
    }
   ],
   "source": [
    "Counter(predic.argmax(axis=-1))"
   ]
  },
  {
   "cell_type": "code",
   "execution_count": 97,
   "metadata": {},
   "outputs": [
    {
     "data": {
      "text/plain": [
       "Counter({0: 5060, 1: 11128, 2: 6695})"
      ]
     },
     "execution_count": 97,
     "metadata": {},
     "output_type": "execute_result"
    }
   ],
   "source": [
    "Counter(Y.argmax(axis=-1))"
   ]
  },
  {
   "cell_type": "code",
   "execution_count": 100,
   "metadata": {},
   "outputs": [
    {
     "data": {
      "text/plain": [
       "0.43458223879531827"
      ]
     },
     "execution_count": 100,
     "metadata": {},
     "output_type": "execute_result"
    }
   ],
   "source": [
    "f1_score(Y.argmax(axis=-1),predic.argmax(axis=-1) , average='macro') "
   ]
  },
  {
   "cell_type": "code",
   "execution_count": 101,
   "metadata": {},
   "outputs": [
    {
     "data": {
      "text/plain": [
       "0.48682428003321243"
      ]
     },
     "execution_count": 101,
     "metadata": {},
     "output_type": "execute_result"
    }
   ],
   "source": [
    "f1_score(Y.argmax(axis=-1),predic.argmax(axis=-1) , average='micro') "
   ]
  },
  {
   "cell_type": "code",
   "execution_count": 103,
   "metadata": {},
   "outputs": [
    {
     "data": {
      "text/plain": [
       "0.47399915303716927"
      ]
     },
     "execution_count": 103,
     "metadata": {},
     "output_type": "execute_result"
    }
   ],
   "source": [
    "f1_score(Y.argmax(axis=-1),predic.argmax(axis=-1) , average='weighted') "
   ]
  },
  {
   "cell_type": "code",
   "execution_count": null,
   "metadata": {
    "collapsed": true
   },
   "outputs": [],
   "source": []
  },
  {
   "cell_type": "code",
   "execution_count": 75,
   "metadata": {
    "scrolled": true
   },
   "outputs": [
    {
     "ename": "ValueError",
     "evalue": "bad input shape (6533, 3)",
     "output_type": "error",
     "traceback": [
      "\u001b[1;31m---------------------------------------------------------------------------\u001b[0m",
      "\u001b[1;31mValueError\u001b[0m                                Traceback (most recent call last)",
      "\u001b[1;32m<ipython-input-75-0a2b0aef76da>\u001b[0m in \u001b[0;36m<module>\u001b[1;34m()\u001b[0m\n\u001b[0;32m      1\u001b[0m \u001b[1;31m# Compute ROC curve and ROC area for each class\u001b[0m\u001b[1;33m\u001b[0m\u001b[1;33m\u001b[0m\u001b[0m\n\u001b[1;32m----> 2\u001b[1;33m \u001b[0mfpr\u001b[0m\u001b[1;33m,\u001b[0m \u001b[0mtpr\u001b[0m\u001b[1;33m,\u001b[0m \u001b[0m_\u001b[0m \u001b[1;33m=\u001b[0m \u001b[0mroc_curve\u001b[0m\u001b[1;33m(\u001b[0m\u001b[0my_test\u001b[0m\u001b[1;33m,\u001b[0m \u001b[0mpredic\u001b[0m\u001b[1;33m,\u001b[0m \u001b[0mpos_label\u001b[0m\u001b[1;33m=\u001b[0m\u001b[1;36m1\u001b[0m\u001b[1;33m)\u001b[0m\u001b[1;33m\u001b[0m\u001b[0m\n\u001b[0m\u001b[0;32m      3\u001b[0m \u001b[0mroc_auc\u001b[0m \u001b[1;33m=\u001b[0m \u001b[0mauc\u001b[0m\u001b[1;33m(\u001b[0m\u001b[0mfpr\u001b[0m\u001b[1;33m,\u001b[0m \u001b[0mtpr\u001b[0m\u001b[1;33m)\u001b[0m\u001b[1;33m\u001b[0m\u001b[0m\n\u001b[0;32m      4\u001b[0m \u001b[1;33m\u001b[0m\u001b[0m\n\u001b[0;32m      5\u001b[0m \u001b[1;31m# Compute micro-average ROC curve and ROC area\u001b[0m\u001b[1;33m\u001b[0m\u001b[1;33m\u001b[0m\u001b[0m\n",
      "\u001b[1;32mC:\\Python\\Miniconda64\\lib\\site-packages\\sklearn\\metrics\\ranking.py\u001b[0m in \u001b[0;36mroc_curve\u001b[1;34m(y_true, y_score, pos_label, sample_weight, drop_intermediate)\u001b[0m\n\u001b[0;32m    508\u001b[0m     \"\"\"\n\u001b[0;32m    509\u001b[0m     fps, tps, thresholds = _binary_clf_curve(\n\u001b[1;32m--> 510\u001b[1;33m         y_true, y_score, pos_label=pos_label, sample_weight=sample_weight)\n\u001b[0m\u001b[0;32m    511\u001b[0m \u001b[1;33m\u001b[0m\u001b[0m\n\u001b[0;32m    512\u001b[0m     \u001b[1;31m# Attempt to drop thresholds corresponding to points in between and\u001b[0m\u001b[1;33m\u001b[0m\u001b[1;33m\u001b[0m\u001b[0m\n",
      "\u001b[1;32mC:\\Python\\Miniconda64\\lib\\site-packages\\sklearn\\metrics\\ranking.py\u001b[0m in \u001b[0;36m_binary_clf_curve\u001b[1;34m(y_true, y_score, pos_label, sample_weight)\u001b[0m\n\u001b[0;32m    301\u001b[0m     \"\"\"\n\u001b[0;32m    302\u001b[0m     \u001b[0mcheck_consistent_length\u001b[0m\u001b[1;33m(\u001b[0m\u001b[0my_true\u001b[0m\u001b[1;33m,\u001b[0m \u001b[0my_score\u001b[0m\u001b[1;33m)\u001b[0m\u001b[1;33m\u001b[0m\u001b[0m\n\u001b[1;32m--> 303\u001b[1;33m     \u001b[0my_true\u001b[0m \u001b[1;33m=\u001b[0m \u001b[0mcolumn_or_1d\u001b[0m\u001b[1;33m(\u001b[0m\u001b[0my_true\u001b[0m\u001b[1;33m)\u001b[0m\u001b[1;33m\u001b[0m\u001b[0m\n\u001b[0m\u001b[0;32m    304\u001b[0m     \u001b[0my_score\u001b[0m \u001b[1;33m=\u001b[0m \u001b[0mcolumn_or_1d\u001b[0m\u001b[1;33m(\u001b[0m\u001b[0my_score\u001b[0m\u001b[1;33m)\u001b[0m\u001b[1;33m\u001b[0m\u001b[0m\n\u001b[0;32m    305\u001b[0m     \u001b[0massert_all_finite\u001b[0m\u001b[1;33m(\u001b[0m\u001b[0my_true\u001b[0m\u001b[1;33m)\u001b[0m\u001b[1;33m\u001b[0m\u001b[0m\n",
      "\u001b[1;32mC:\\Python\\Miniconda64\\lib\\site-packages\\sklearn\\utils\\validation.py\u001b[0m in \u001b[0;36mcolumn_or_1d\u001b[1;34m(y, warn)\u001b[0m\n\u001b[0;32m    581\u001b[0m         \u001b[1;32mreturn\u001b[0m \u001b[0mnp\u001b[0m\u001b[1;33m.\u001b[0m\u001b[0mravel\u001b[0m\u001b[1;33m(\u001b[0m\u001b[0my\u001b[0m\u001b[1;33m)\u001b[0m\u001b[1;33m\u001b[0m\u001b[0m\n\u001b[0;32m    582\u001b[0m \u001b[1;33m\u001b[0m\u001b[0m\n\u001b[1;32m--> 583\u001b[1;33m     \u001b[1;32mraise\u001b[0m \u001b[0mValueError\u001b[0m\u001b[1;33m(\u001b[0m\u001b[1;34m\"bad input shape {0}\"\u001b[0m\u001b[1;33m.\u001b[0m\u001b[0mformat\u001b[0m\u001b[1;33m(\u001b[0m\u001b[0mshape\u001b[0m\u001b[1;33m)\u001b[0m\u001b[1;33m)\u001b[0m\u001b[1;33m\u001b[0m\u001b[0m\n\u001b[0m\u001b[0;32m    584\u001b[0m \u001b[1;33m\u001b[0m\u001b[0m\n\u001b[0;32m    585\u001b[0m \u001b[1;33m\u001b[0m\u001b[0m\n",
      "\u001b[1;31mValueError\u001b[0m: bad input shape (6533, 3)"
     ]
    }
   ],
   "source": [
    "# Compute ROC curve and ROC area for each class\n",
    "fpr, tpr, _ = roc_curve(y_test, predic, pos_label=1)\n",
    "roc_auc = auc(fpr, tpr)\n",
    "\n",
    "# Compute micro-average ROC curve and ROC area\n",
    "#fpr[\"micro\"], tpr[\"micro\"], _ = roc_curve(y_test.ravel(), y_score.ravel())\n",
    "#roc_auc[\"micro\"] = auc(fpr[\"micro\"], tpr[\"micro\"])"
   ]
  },
  {
   "cell_type": "code",
   "execution_count": 229,
   "metadata": {},
   "outputs": [
    {
     "data": {
      "image/png": "[encoded data removed]",
      "text/plain": [
       "<matplotlib.figure.Figure at 0x23085f117f0>"
      ]
     },
     "metadata": {},
     "output_type": "display_data"
    }
   ],
   "source": [
    "plt.figure()\n",
    "lw = 2\n",
    "plt.plot(fpr, tpr, color='darkorange', lw=lw, label='ROC curve (area = %0.2f)' % roc_auc)\n",
    "plt.plot([0, 1], [0, 1], color='navy', lw=lw, linestyle='--')\n",
    "plt.xlim([0.0, 1.0])\n",
    "plt.ylim([0.0, 1.05])\n",
    "plt.xlabel('False Positive Rate')\n",
    "plt.ylabel('True Positive Rate')\n",
    "plt.title('Receiver operating characteristic example')\n",
    "plt.legend(loc=\"lower right\")\n",
    "plt.show()"
   ]
  },
  {
   "cell_type": "markdown",
   "metadata": {
    "collapsed": true
   },
   "source": [
    "### 5. Verification - Real Data"
   ]
  },
  {
   "cell_type": "code",
   "execution_count": 76,
   "metadata": {
    "collapsed": true
   },
   "outputs": [],
   "source": [
    "import time"
   ]
  },
  {
   "cell_type": "code",
   "execution_count": 108,
   "metadata": {
    "scrolled": true
   },
   "outputs": [
    {
     "name": "stdout",
     "output_type": "stream",
     "text": [
      "Predic:  [ 0.03744295  0.78669232  0.17586479]\n",
      "Predic: 0\n",
      "Real:  1.0\n"
     ]
    },
    {
     "data": {
      "image/png": "[encoded data removed]",
      "text/plain": [
       "<matplotlib.figure.Figure at 0x1733d81b400>"
      ]
     },
     "metadata": {},
     "output_type": "display_data"
    },
    {
     "name": "stdout",
     "output_type": "stream",
     "text": [
      "q\n"
     ]
    }
   ],
   "source": [
    "while True:\n",
    "    file = np.random.choice(FILES[30:])\n",
    "    raw_data = pd.DataFrame(file.value, \n",
    "                            columns=['open','high','low','close','trend'])\n",
    "    raw_data['ema5'] = raw_data.close/raw_data.close.ewm(span=5).mean()\n",
    "    raw_data['ema20']= raw_data.close/raw_data.close.ewm(span=20).mean()\n",
    "    raw_data['ema60']= raw_data.close/raw_data.close.ewm(span=60).mean()\n",
    "\n",
    "    start = np.random.randint(0, len(raw_data)-seq_length-trend_period)\n",
    "    endseq = start + seq_length\n",
    "    endtrend = endseq + trend_period\n",
    "    \n",
    "    seq_data = raw_data[start:endseq]\n",
    "    normed = norm(seq_data[['open','high','low','close']], ntype='zscore')\n",
    "    normed['ema5'] = raw_data.ema5[start:endseq]\n",
    "    normed['ema20'] = raw_data.ema20[start:endseq]\n",
    "    normed['ema60'] = raw_data.ema60[start:endseq]\n",
    "    normed['trend'] = seq_data['trend']\n",
    "    predic = model.predict(np.array([normed.values]))[0]\n",
    "    \n",
    "    print(\"Predic: \", predic)\n",
    "    print(\"Predic:\", predic.argmax()-1)\n",
    "    print(\"Real: \", raw_data.trend.iloc[endtrend])\n",
    "    \n",
    "    plt.figure()\n",
    "    plt.plot(raw_data.close[start:endtrend])\n",
    "    plt.axvspan(endseq,endtrend, facecolor='y', alpha=0.3)\n",
    "    plt.show()\n",
    "    #fig, (ax) = plt.subplots(1,2, figsize=(20,5))\n",
    "    \n",
    "    #ax[0].plot(test_x[i,:,3])\n",
    "    #ax[1].plot(test_x[i+60,:,3])\n",
    "    #ax[1].axvspan(120,180, facecolor='y', alpha=0.3 )\n",
    "    #plt.show()\n",
    "    #time.sleep(0.1)\n",
    "    key = input()\n",
    "    if key == 'q':\n",
    "        break\n",
    "    clear_output(wait=True)"
   ]
  },
  {
   "cell_type": "code",
   "execution_count": 157,
   "metadata": {},
   "outputs": [
    {
     "data": {
      "text/plain": [
       "array([[ nan]], dtype=float32)"
      ]
     },
     "execution_count": 157,
     "metadata": {},
     "output_type": "execute_result"
    }
   ],
   "source": [
    "model.predict(np.array([normed.values]))"
   ]
  },
  {
   "cell_type": "code",
   "execution_count": 161,
   "metadata": {
    "scrolled": true
   },
   "outputs": [
    {
     "data": {
      "text/plain": [
       "2476   -0.028168\n",
       "2477   -0.015298\n",
       "2478   -0.014285\n",
       "2479   -0.016515\n",
       "2480   -0.031580\n",
       "2481   -0.015440\n",
       "2482   -0.032011\n",
       "2483   -0.028934\n",
       "2484   -0.035966\n",
       "2485   -0.038785\n",
       "2486   -0.026023\n",
       "2487   -0.013154\n",
       "2488   -0.028626\n",
       "2489    0.003274\n",
       "2490   -0.012871\n",
       "2491    0.006342\n",
       "2492   -0.006021\n",
       "2493   -0.013066\n",
       "2494   -0.018007\n",
       "2495   -0.007807\n",
       "2496   -0.012278\n",
       "Name: ema5, dtype: float64"
      ]
     },
     "execution_count": 161,
     "metadata": {},
     "output_type": "execute_result"
    }
   ],
   "source": [
    "raw_data.ema5[i:i+seq_length]"
   ]
  },
  {
   "cell_type": "code",
   "execution_count": 109,
   "metadata": {},
   "outputs": [
    {
     "name": "stderr",
     "output_type": "stream",
     "text": [
      "C:\\Python\\Miniconda64\\lib\\site-packages\\ipykernel_launcher.py:1: FutureWarning: pd.ewm_mean is deprecated for Series and will be removed in a future version, replace with \n",
      "\tSeries.ewm(span=10,min_periods=0,adjust=True,ignore_na=False).mean()\n",
      "  \"\"\"Entry point for launching an IPython kernel.\n"
     ]
    },
    {
     "data": {
      "text/plain": [
       "3.33612269013754"
      ]
     },
     "execution_count": 109,
     "metadata": {},
     "output_type": "execute_result"
    }
   ],
   "source": [
    "pd.ewma(raw_data.close, span=10).mean()"
   ]
  },
  {
   "cell_type": "code",
   "execution_count": 111,
   "metadata": {
    "collapsed": true
   },
   "outputs": [],
   "source": [
    "raw_data['ema'] = raw_data.close.ewm(span=10).mean()"
   ]
  },
  {
   "cell_type": "code",
   "execution_count": 112,
   "metadata": {},
   "outputs": [
    {
     "data": {
      "text/html": [
       "<div>\n",
       "<style>\n",
       "    .dataframe thead tr:only-child th {\n",
       "        text-align: right;\n",
       "    }\n",
       "\n",
       "    .dataframe thead th {\n",
       "        text-align: left;\n",
       "    }\n",
       "\n",
       "    .dataframe tbody tr th {\n",
       "        vertical-align: top;\n",
       "    }\n",
       "</style>\n",
       "<table border=\"1\" class=\"dataframe\">\n",
       "  <thead>\n",
       "    <tr style=\"text-align: right;\">\n",
       "      <th></th>\n",
       "      <th>open</th>\n",
       "      <th>high</th>\n",
       "      <th>low</th>\n",
       "      <th>close</th>\n",
       "      <th>downtrend</th>\n",
       "      <th>uptrend</th>\n",
       "      <th>ema</th>\n",
       "    </tr>\n",
       "  </thead>\n",
       "  <tbody>\n",
       "    <tr>\n",
       "      <th>0</th>\n",
       "      <td>1.4960</td>\n",
       "      <td>1.4980</td>\n",
       "      <td>1.4740</td>\n",
       "      <td>1.4870</td>\n",
       "      <td>2.739136e-04</td>\n",
       "      <td>8.848447e-01</td>\n",
       "      <td>1.487000</td>\n",
       "    </tr>\n",
       "    <tr>\n",
       "      <th>1</th>\n",
       "      <td>1.4890</td>\n",
       "      <td>1.4900</td>\n",
       "      <td>1.4570</td>\n",
       "      <td>1.4645</td>\n",
       "      <td>1.595031e-05</td>\n",
       "      <td>5.139159e-03</td>\n",
       "      <td>1.474625</td>\n",
       "    </tr>\n",
       "    <tr>\n",
       "      <th>2</th>\n",
       "      <td>1.4540</td>\n",
       "      <td>1.4630</td>\n",
       "      <td>1.4270</td>\n",
       "      <td>1.4595</td>\n",
       "      <td>1.839598e-04</td>\n",
       "      <td>8.178793e-01</td>\n",
       "      <td>1.468545</td>\n",
       "    </tr>\n",
       "    <tr>\n",
       "      <th>3</th>\n",
       "      <td>1.4560</td>\n",
       "      <td>1.4590</td>\n",
       "      <td>1.4390</td>\n",
       "      <td>1.4465</td>\n",
       "      <td>2.277036e-04</td>\n",
       "      <td>7.696805e-03</td>\n",
       "      <td>1.461282</td>\n",
       "    </tr>\n",
       "    <tr>\n",
       "      <th>4</th>\n",
       "      <td>1.4530</td>\n",
       "      <td>1.4720</td>\n",
       "      <td>1.4500</td>\n",
       "      <td>1.4595</td>\n",
       "      <td>9.120651e-04</td>\n",
       "      <td>4.928198e-05</td>\n",
       "      <td>1.460770</td>\n",
       "    </tr>\n",
       "    <tr>\n",
       "      <th>5</th>\n",
       "      <td>1.4570</td>\n",
       "      <td>1.4650</td>\n",
       "      <td>1.4440</td>\n",
       "      <td>1.4590</td>\n",
       "      <td>7.089793e-06</td>\n",
       "      <td>1.495185e-06</td>\n",
       "      <td>1.460311</td>\n",
       "    </tr>\n",
       "    <tr>\n",
       "      <th>6</th>\n",
       "      <td>1.4530</td>\n",
       "      <td>1.4580</td>\n",
       "      <td>1.4420</td>\n",
       "      <td>1.4580</td>\n",
       "      <td>3.719399e-04</td>\n",
       "      <td>1.358987e-07</td>\n",
       "      <td>1.459754</td>\n",
       "    </tr>\n",
       "    <tr>\n",
       "      <th>7</th>\n",
       "      <td>1.4670</td>\n",
       "      <td>1.4990</td>\n",
       "      <td>1.4550</td>\n",
       "      <td>1.4960</td>\n",
       "      <td>1.779208e-03</td>\n",
       "      <td>1.010162e-06</td>\n",
       "      <td>1.468000</td>\n",
       "    </tr>\n",
       "    <tr>\n",
       "      <th>8</th>\n",
       "      <td>1.4890</td>\n",
       "      <td>1.4950</td>\n",
       "      <td>1.4790</td>\n",
       "      <td>1.4935</td>\n",
       "      <td>9.425099e-07</td>\n",
       "      <td>2.659535e-06</td>\n",
       "      <td>1.473548</td>\n",
       "    </tr>\n",
       "    <tr>\n",
       "      <th>9</th>\n",
       "      <td>1.4970</td>\n",
       "      <td>1.5190</td>\n",
       "      <td>1.4960</td>\n",
       "      <td>1.5105</td>\n",
       "      <td>6.485791e-06</td>\n",
       "      <td>3.234991e-05</td>\n",
       "      <td>1.481310</td>\n",
       "    </tr>\n",
       "    <tr>\n",
       "      <th>10</th>\n",
       "      <td>1.5210</td>\n",
       "      <td>1.5305</td>\n",
       "      <td>1.5195</td>\n",
       "      <td>1.5295</td>\n",
       "      <td>6.631651e-08</td>\n",
       "      <td>1.746470e-04</td>\n",
       "      <td>1.491155</td>\n",
       "    </tr>\n",
       "    <tr>\n",
       "      <th>11</th>\n",
       "      <td>1.5205</td>\n",
       "      <td>1.5225</td>\n",
       "      <td>1.5015</td>\n",
       "      <td>1.5210</td>\n",
       "      <td>1.320311e-05</td>\n",
       "      <td>1.880560e-03</td>\n",
       "      <td>1.497118</td>\n",
       "    </tr>\n",
       "    <tr>\n",
       "      <th>12</th>\n",
       "      <td>1.5185</td>\n",
       "      <td>1.5755</td>\n",
       "      <td>1.5065</td>\n",
       "      <td>1.5665</td>\n",
       "      <td>3.268353e-06</td>\n",
       "      <td>1.135515e-03</td>\n",
       "      <td>1.510735</td>\n",
       "    </tr>\n",
       "    <tr>\n",
       "      <th>13</th>\n",
       "      <td>1.5575</td>\n",
       "      <td>1.5705</td>\n",
       "      <td>1.5575</td>\n",
       "      <td>1.5680</td>\n",
       "      <td>2.128244e-07</td>\n",
       "      <td>2.472214e-03</td>\n",
       "      <td>1.521814</td>\n",
       "    </tr>\n",
       "    <tr>\n",
       "      <th>14</th>\n",
       "      <td>1.5815</td>\n",
       "      <td>1.5825</td>\n",
       "      <td>1.5605</td>\n",
       "      <td>1.5695</td>\n",
       "      <td>1.903796e-07</td>\n",
       "      <td>6.062827e-01</td>\n",
       "      <td>1.530934</td>\n",
       "    </tr>\n",
       "    <tr>\n",
       "      <th>15</th>\n",
       "      <td>1.5625</td>\n",
       "      <td>1.5765</td>\n",
       "      <td>1.5535</td>\n",
       "      <td>1.5755</td>\n",
       "      <td>1.006916e-09</td>\n",
       "      <td>9.902816e-01</td>\n",
       "      <td>1.539377</td>\n",
       "    </tr>\n",
       "    <tr>\n",
       "      <th>16</th>\n",
       "      <td>1.5675</td>\n",
       "      <td>1.5685</td>\n",
       "      <td>1.5365</td>\n",
       "      <td>1.5605</td>\n",
       "      <td>3.944575e-11</td>\n",
       "      <td>9.999866e-01</td>\n",
       "      <td>1.543349</td>\n",
       "    </tr>\n",
       "    <tr>\n",
       "      <th>17</th>\n",
       "      <td>1.5565</td>\n",
       "      <td>1.5675</td>\n",
       "      <td>1.5245</td>\n",
       "      <td>1.5665</td>\n",
       "      <td>2.879834e-09</td>\n",
       "      <td>9.882344e-01</td>\n",
       "      <td>1.547675</td>\n",
       "    </tr>\n",
       "    <tr>\n",
       "      <th>18</th>\n",
       "      <td>1.5765</td>\n",
       "      <td>1.5835</td>\n",
       "      <td>1.5695</td>\n",
       "      <td>1.5790</td>\n",
       "      <td>4.537761e-11</td>\n",
       "      <td>9.999958e-01</td>\n",
       "      <td>1.553499</td>\n",
       "    </tr>\n",
       "    <tr>\n",
       "      <th>19</th>\n",
       "      <td>1.5695</td>\n",
       "      <td>1.5745</td>\n",
       "      <td>1.5385</td>\n",
       "      <td>1.5450</td>\n",
       "      <td>4.153626e-11</td>\n",
       "      <td>9.999989e-01</td>\n",
       "      <td>1.551925</td>\n",
       "    </tr>\n",
       "    <tr>\n",
       "      <th>20</th>\n",
       "      <td>1.5325</td>\n",
       "      <td>1.5635</td>\n",
       "      <td>1.5305</td>\n",
       "      <td>1.5575</td>\n",
       "      <td>8.815822e-10</td>\n",
       "      <td>9.999956e-01</td>\n",
       "      <td>1.552954</td>\n",
       "    </tr>\n",
       "    <tr>\n",
       "      <th>21</th>\n",
       "      <td>1.5495</td>\n",
       "      <td>1.5665</td>\n",
       "      <td>1.5485</td>\n",
       "      <td>1.5565</td>\n",
       "      <td>6.990912e-10</td>\n",
       "      <td>9.999979e-01</td>\n",
       "      <td>1.553607</td>\n",
       "    </tr>\n",
       "    <tr>\n",
       "      <th>22</th>\n",
       "      <td>1.5685</td>\n",
       "      <td>1.5875</td>\n",
       "      <td>1.5675</td>\n",
       "      <td>1.5745</td>\n",
       "      <td>1.478605e-07</td>\n",
       "      <td>9.967276e-01</td>\n",
       "      <td>1.557443</td>\n",
       "    </tr>\n",
       "    <tr>\n",
       "      <th>23</th>\n",
       "      <td>1.5695</td>\n",
       "      <td>1.5845</td>\n",
       "      <td>1.5625</td>\n",
       "      <td>1.5770</td>\n",
       "      <td>1.471559e-05</td>\n",
       "      <td>9.580571e-01</td>\n",
       "      <td>1.561028</td>\n",
       "    </tr>\n",
       "    <tr>\n",
       "      <th>24</th>\n",
       "      <td>1.5955</td>\n",
       "      <td>1.6015</td>\n",
       "      <td>1.5745</td>\n",
       "      <td>1.5800</td>\n",
       "      <td>2.418728e-09</td>\n",
       "      <td>9.995529e-01</td>\n",
       "      <td>1.564501</td>\n",
       "    </tr>\n",
       "    <tr>\n",
       "      <th>25</th>\n",
       "      <td>1.5755</td>\n",
       "      <td>1.5895</td>\n",
       "      <td>1.5575</td>\n",
       "      <td>1.5840</td>\n",
       "      <td>1.713863e-07</td>\n",
       "      <td>9.975941e-01</td>\n",
       "      <td>1.568065</td>\n",
       "    </tr>\n",
       "    <tr>\n",
       "      <th>26</th>\n",
       "      <td>1.5685</td>\n",
       "      <td>1.5790</td>\n",
       "      <td>1.5555</td>\n",
       "      <td>1.5765</td>\n",
       "      <td>2.219124e-07</td>\n",
       "      <td>9.999609e-01</td>\n",
       "      <td>1.569606</td>\n",
       "    </tr>\n",
       "    <tr>\n",
       "      <th>27</th>\n",
       "      <td>1.5575</td>\n",
       "      <td>1.5745</td>\n",
       "      <td>1.5365</td>\n",
       "      <td>1.5595</td>\n",
       "      <td>9.824887e-06</td>\n",
       "      <td>9.934110e-01</td>\n",
       "      <td>1.567762</td>\n",
       "    </tr>\n",
       "    <tr>\n",
       "      <th>28</th>\n",
       "      <td>1.5615</td>\n",
       "      <td>1.5635</td>\n",
       "      <td>1.5355</td>\n",
       "      <td>1.5510</td>\n",
       "      <td>2.068904e-03</td>\n",
       "      <td>5.499061e-01</td>\n",
       "      <td>1.564705</td>\n",
       "    </tr>\n",
       "    <tr>\n",
       "      <th>29</th>\n",
       "      <td>1.5635</td>\n",
       "      <td>1.5855</td>\n",
       "      <td>1.5565</td>\n",
       "      <td>1.5710</td>\n",
       "      <td>7.238604e-05</td>\n",
       "      <td>9.317113e-01</td>\n",
       "      <td>1.565852</td>\n",
       "    </tr>\n",
       "    <tr>\n",
       "      <th>...</th>\n",
       "      <td>...</td>\n",
       "      <td>...</td>\n",
       "      <td>...</td>\n",
       "      <td>...</td>\n",
       "      <td>...</td>\n",
       "      <td>...</td>\n",
       "      <td>...</td>\n",
       "    </tr>\n",
       "    <tr>\n",
       "      <th>2448</th>\n",
       "      <td>3.1245</td>\n",
       "      <td>3.1345</td>\n",
       "      <td>3.0965</td>\n",
       "      <td>3.1130</td>\n",
       "      <td>4.389160e-03</td>\n",
       "      <td>8.367720e-06</td>\n",
       "      <td>3.104722</td>\n",
       "    </tr>\n",
       "    <tr>\n",
       "      <th>2449</th>\n",
       "      <td>3.1100</td>\n",
       "      <td>3.1165</td>\n",
       "      <td>3.0665</td>\n",
       "      <td>3.0755</td>\n",
       "      <td>5.554629e-07</td>\n",
       "      <td>1.039254e-06</td>\n",
       "      <td>3.099409</td>\n",
       "    </tr>\n",
       "    <tr>\n",
       "      <th>2450</th>\n",
       "      <td>3.0765</td>\n",
       "      <td>3.1230</td>\n",
       "      <td>3.0635</td>\n",
       "      <td>3.1185</td>\n",
       "      <td>1.033601e-05</td>\n",
       "      <td>1.904854e-06</td>\n",
       "      <td>3.102880</td>\n",
       "    </tr>\n",
       "    <tr>\n",
       "      <th>2451</th>\n",
       "      <td>3.1065</td>\n",
       "      <td>3.1120</td>\n",
       "      <td>3.0745</td>\n",
       "      <td>3.0930</td>\n",
       "      <td>2.994391e-06</td>\n",
       "      <td>1.455827e-06</td>\n",
       "      <td>3.101084</td>\n",
       "    </tr>\n",
       "    <tr>\n",
       "      <th>2452</th>\n",
       "      <td>3.0905</td>\n",
       "      <td>3.1510</td>\n",
       "      <td>3.0795</td>\n",
       "      <td>3.1050</td>\n",
       "      <td>6.098861e-07</td>\n",
       "      <td>1.963382e-07</td>\n",
       "      <td>3.101796</td>\n",
       "    </tr>\n",
       "    <tr>\n",
       "      <th>2453</th>\n",
       "      <td>3.1115</td>\n",
       "      <td>3.1215</td>\n",
       "      <td>3.0685</td>\n",
       "      <td>3.0735</td>\n",
       "      <td>1.348899e-05</td>\n",
       "      <td>4.321144e-06</td>\n",
       "      <td>3.096651</td>\n",
       "    </tr>\n",
       "    <tr>\n",
       "      <th>2454</th>\n",
       "      <td>3.0740</td>\n",
       "      <td>3.0970</td>\n",
       "      <td>3.0200</td>\n",
       "      <td>3.0305</td>\n",
       "      <td>3.485135e-05</td>\n",
       "      <td>2.434454e-06</td>\n",
       "      <td>3.084624</td>\n",
       "    </tr>\n",
       "    <tr>\n",
       "      <th>2455</th>\n",
       "      <td>3.0305</td>\n",
       "      <td>3.0490</td>\n",
       "      <td>2.9995</td>\n",
       "      <td>3.0335</td>\n",
       "      <td>6.832251e-04</td>\n",
       "      <td>1.188156e-06</td>\n",
       "      <td>3.075328</td>\n",
       "    </tr>\n",
       "    <tr>\n",
       "      <th>2456</th>\n",
       "      <td>3.0335</td>\n",
       "      <td>3.0525</td>\n",
       "      <td>2.9300</td>\n",
       "      <td>2.9335</td>\n",
       "      <td>1.304887e-01</td>\n",
       "      <td>3.564930e-05</td>\n",
       "      <td>3.049541</td>\n",
       "    </tr>\n",
       "    <tr>\n",
       "      <th>2457</th>\n",
       "      <td>2.9310</td>\n",
       "      <td>3.0140</td>\n",
       "      <td>2.8725</td>\n",
       "      <td>3.0040</td>\n",
       "      <td>8.282508e-03</td>\n",
       "      <td>1.809896e-06</td>\n",
       "      <td>3.041261</td>\n",
       "    </tr>\n",
       "    <tr>\n",
       "      <th>2458</th>\n",
       "      <td>2.9960</td>\n",
       "      <td>2.9960</td>\n",
       "      <td>2.9505</td>\n",
       "      <td>2.9870</td>\n",
       "      <td>5.134515e-01</td>\n",
       "      <td>9.045794e-05</td>\n",
       "      <td>3.031396</td>\n",
       "    </tr>\n",
       "    <tr>\n",
       "      <th>2459</th>\n",
       "      <td>2.9835</td>\n",
       "      <td>2.9840</td>\n",
       "      <td>2.9605</td>\n",
       "      <td>2.9665</td>\n",
       "      <td>4.697581e-02</td>\n",
       "      <td>8.162595e-03</td>\n",
       "      <td>3.019596</td>\n",
       "    </tr>\n",
       "    <tr>\n",
       "      <th>2460</th>\n",
       "      <td>2.9615</td>\n",
       "      <td>3.0175</td>\n",
       "      <td>2.9615</td>\n",
       "      <td>3.0060</td>\n",
       "      <td>9.823610e-01</td>\n",
       "      <td>5.114201e-05</td>\n",
       "      <td>3.017124</td>\n",
       "    </tr>\n",
       "    <tr>\n",
       "      <th>2461</th>\n",
       "      <td>2.9990</td>\n",
       "      <td>3.0185</td>\n",
       "      <td>2.9950</td>\n",
       "      <td>2.9990</td>\n",
       "      <td>9.999061e-01</td>\n",
       "      <td>2.784251e-07</td>\n",
       "      <td>3.013829</td>\n",
       "    </tr>\n",
       "    <tr>\n",
       "      <th>2462</th>\n",
       "      <td>2.9975</td>\n",
       "      <td>3.0175</td>\n",
       "      <td>2.9780</td>\n",
       "      <td>2.9820</td>\n",
       "      <td>9.871472e-01</td>\n",
       "      <td>8.351547e-07</td>\n",
       "      <td>3.008042</td>\n",
       "    </tr>\n",
       "    <tr>\n",
       "      <th>2463</th>\n",
       "      <td>2.9790</td>\n",
       "      <td>3.0470</td>\n",
       "      <td>2.9620</td>\n",
       "      <td>3.0240</td>\n",
       "      <td>9.517280e-01</td>\n",
       "      <td>3.450645e-06</td>\n",
       "      <td>3.010943</td>\n",
       "    </tr>\n",
       "    <tr>\n",
       "      <th>2464</th>\n",
       "      <td>3.0185</td>\n",
       "      <td>3.0235</td>\n",
       "      <td>2.9835</td>\n",
       "      <td>2.9895</td>\n",
       "      <td>9.994525e-01</td>\n",
       "      <td>8.039032e-07</td>\n",
       "      <td>3.007045</td>\n",
       "    </tr>\n",
       "    <tr>\n",
       "      <th>2465</th>\n",
       "      <td>2.9895</td>\n",
       "      <td>3.0280</td>\n",
       "      <td>2.9865</td>\n",
       "      <td>3.0175</td>\n",
       "      <td>9.997217e-01</td>\n",
       "      <td>1.685858e-07</td>\n",
       "      <td>3.008946</td>\n",
       "    </tr>\n",
       "    <tr>\n",
       "      <th>2466</th>\n",
       "      <td>3.0085</td>\n",
       "      <td>3.0370</td>\n",
       "      <td>3.0050</td>\n",
       "      <td>3.0305</td>\n",
       "      <td>9.007318e-01</td>\n",
       "      <td>2.557222e-06</td>\n",
       "      <td>3.012865</td>\n",
       "    </tr>\n",
       "    <tr>\n",
       "      <th>2467</th>\n",
       "      <td>3.0210</td>\n",
       "      <td>3.0435</td>\n",
       "      <td>2.9600</td>\n",
       "      <td>2.9750</td>\n",
       "      <td>2.453569e-02</td>\n",
       "      <td>9.883737e-07</td>\n",
       "      <td>3.005980</td>\n",
       "    </tr>\n",
       "    <tr>\n",
       "      <th>2468</th>\n",
       "      <td>2.9690</td>\n",
       "      <td>2.9825</td>\n",
       "      <td>2.9405</td>\n",
       "      <td>2.9550</td>\n",
       "      <td>9.373418e-03</td>\n",
       "      <td>2.292873e-06</td>\n",
       "      <td>2.996711</td>\n",
       "    </tr>\n",
       "    <tr>\n",
       "      <th>2469</th>\n",
       "      <td>2.9635</td>\n",
       "      <td>2.9890</td>\n",
       "      <td>2.9235</td>\n",
       "      <td>2.9670</td>\n",
       "      <td>4.124290e-04</td>\n",
       "      <td>4.147463e-04</td>\n",
       "      <td>2.991309</td>\n",
       "    </tr>\n",
       "    <tr>\n",
       "      <th>2470</th>\n",
       "      <td>2.9660</td>\n",
       "      <td>2.9820</td>\n",
       "      <td>2.9390</td>\n",
       "      <td>2.9500</td>\n",
       "      <td>5.871863e-03</td>\n",
       "      <td>3.161810e-05</td>\n",
       "      <td>2.983798</td>\n",
       "    </tr>\n",
       "    <tr>\n",
       "      <th>2471</th>\n",
       "      <td>2.9425</td>\n",
       "      <td>3.0000</td>\n",
       "      <td>2.9425</td>\n",
       "      <td>2.9810</td>\n",
       "      <td>3.482693e-02</td>\n",
       "      <td>4.578938e-05</td>\n",
       "      <td>2.983289</td>\n",
       "    </tr>\n",
       "    <tr>\n",
       "      <th>2472</th>\n",
       "      <td>2.9860</td>\n",
       "      <td>3.0015</td>\n",
       "      <td>2.9640</td>\n",
       "      <td>2.9690</td>\n",
       "      <td>2.656543e-02</td>\n",
       "      <td>3.865028e-06</td>\n",
       "      <td>2.980691</td>\n",
       "    </tr>\n",
       "    <tr>\n",
       "      <th>2473</th>\n",
       "      <td>2.9690</td>\n",
       "      <td>2.9770</td>\n",
       "      <td>2.9510</td>\n",
       "      <td>2.9625</td>\n",
       "      <td>2.300707e-03</td>\n",
       "      <td>1.804403e-06</td>\n",
       "      <td>2.977384</td>\n",
       "    </tr>\n",
       "    <tr>\n",
       "      <th>2474</th>\n",
       "      <td>2.9630</td>\n",
       "      <td>2.9705</td>\n",
       "      <td>2.9405</td>\n",
       "      <td>2.9500</td>\n",
       "      <td>3.017873e-03</td>\n",
       "      <td>5.426790e-06</td>\n",
       "      <td>2.972405</td>\n",
       "    </tr>\n",
       "    <tr>\n",
       "      <th>2475</th>\n",
       "      <td>2.9490</td>\n",
       "      <td>2.9590</td>\n",
       "      <td>2.9005</td>\n",
       "      <td>2.9105</td>\n",
       "      <td>7.417434e-04</td>\n",
       "      <td>6.055071e-06</td>\n",
       "      <td>2.961150</td>\n",
       "    </tr>\n",
       "    <tr>\n",
       "      <th>2476</th>\n",
       "      <td>2.9105</td>\n",
       "      <td>2.9435</td>\n",
       "      <td>2.8525</td>\n",
       "      <td>2.9185</td>\n",
       "      <td>6.530660e-02</td>\n",
       "      <td>4.527416e-07</td>\n",
       "      <td>2.953395</td>\n",
       "    </tr>\n",
       "    <tr>\n",
       "      <th>2477</th>\n",
       "      <td>2.9495</td>\n",
       "      <td>2.9575</td>\n",
       "      <td>2.9120</td>\n",
       "      <td>2.9220</td>\n",
       "      <td>5.873362e-03</td>\n",
       "      <td>3.848931e-05</td>\n",
       "      <td>2.947687</td>\n",
       "    </tr>\n",
       "  </tbody>\n",
       "</table>\n",
       "<p>2478 rows × 7 columns</p>\n",
       "</div>"
      ],
      "text/plain": [
       "        open    high     low   close     downtrend       uptrend       ema\n",
       "0     1.4960  1.4980  1.4740  1.4870  2.739136e-04  8.848447e-01  1.487000\n",
       "1     1.4890  1.4900  1.4570  1.4645  1.595031e-05  5.139159e-03  1.474625\n",
       "2     1.4540  1.4630  1.4270  1.4595  1.839598e-04  8.178793e-01  1.468545\n",
       "3     1.4560  1.4590  1.4390  1.4465  2.277036e-04  7.696805e-03  1.461282\n",
       "4     1.4530  1.4720  1.4500  1.4595  9.120651e-04  4.928198e-05  1.460770\n",
       "5     1.4570  1.4650  1.4440  1.4590  7.089793e-06  1.495185e-06  1.460311\n",
       "6     1.4530  1.4580  1.4420  1.4580  3.719399e-04  1.358987e-07  1.459754\n",
       "7     1.4670  1.4990  1.4550  1.4960  1.779208e-03  1.010162e-06  1.468000\n",
       "8     1.4890  1.4950  1.4790  1.4935  9.425099e-07  2.659535e-06  1.473548\n",
       "9     1.4970  1.5190  1.4960  1.5105  6.485791e-06  3.234991e-05  1.481310\n",
       "10    1.5210  1.5305  1.5195  1.5295  6.631651e-08  1.746470e-04  1.491155\n",
       "11    1.5205  1.5225  1.5015  1.5210  1.320311e-05  1.880560e-03  1.497118\n",
       "12    1.5185  1.5755  1.5065  1.5665  3.268353e-06  1.135515e-03  1.510735\n",
       "13    1.5575  1.5705  1.5575  1.5680  2.128244e-07  2.472214e-03  1.521814\n",
       "14    1.5815  1.5825  1.5605  1.5695  1.903796e-07  6.062827e-01  1.530934\n",
       "15    1.5625  1.5765  1.5535  1.5755  1.006916e-09  9.902816e-01  1.539377\n",
       "16    1.5675  1.5685  1.5365  1.5605  3.944575e-11  9.999866e-01  1.543349\n",
       "17    1.5565  1.5675  1.5245  1.5665  2.879834e-09  9.882344e-01  1.547675\n",
       "18    1.5765  1.5835  1.5695  1.5790  4.537761e-11  9.999958e-01  1.553499\n",
       "19    1.5695  1.5745  1.5385  1.5450  4.153626e-11  9.999989e-01  1.551925\n",
       "20    1.5325  1.5635  1.5305  1.5575  8.815822e-10  9.999956e-01  1.552954\n",
       "21    1.5495  1.5665  1.5485  1.5565  6.990912e-10  9.999979e-01  1.553607\n",
       "22    1.5685  1.5875  1.5675  1.5745  1.478605e-07  9.967276e-01  1.557443\n",
       "23    1.5695  1.5845  1.5625  1.5770  1.471559e-05  9.580571e-01  1.561028\n",
       "24    1.5955  1.6015  1.5745  1.5800  2.418728e-09  9.995529e-01  1.564501\n",
       "25    1.5755  1.5895  1.5575  1.5840  1.713863e-07  9.975941e-01  1.568065\n",
       "26    1.5685  1.5790  1.5555  1.5765  2.219124e-07  9.999609e-01  1.569606\n",
       "27    1.5575  1.5745  1.5365  1.5595  9.824887e-06  9.934110e-01  1.567762\n",
       "28    1.5615  1.5635  1.5355  1.5510  2.068904e-03  5.499061e-01  1.564705\n",
       "29    1.5635  1.5855  1.5565  1.5710  7.238604e-05  9.317113e-01  1.565852\n",
       "...      ...     ...     ...     ...           ...           ...       ...\n",
       "2448  3.1245  3.1345  3.0965  3.1130  4.389160e-03  8.367720e-06  3.104722\n",
       "2449  3.1100  3.1165  3.0665  3.0755  5.554629e-07  1.039254e-06  3.099409\n",
       "2450  3.0765  3.1230  3.0635  3.1185  1.033601e-05  1.904854e-06  3.102880\n",
       "2451  3.1065  3.1120  3.0745  3.0930  2.994391e-06  1.455827e-06  3.101084\n",
       "2452  3.0905  3.1510  3.0795  3.1050  6.098861e-07  1.963382e-07  3.101796\n",
       "2453  3.1115  3.1215  3.0685  3.0735  1.348899e-05  4.321144e-06  3.096651\n",
       "2454  3.0740  3.0970  3.0200  3.0305  3.485135e-05  2.434454e-06  3.084624\n",
       "2455  3.0305  3.0490  2.9995  3.0335  6.832251e-04  1.188156e-06  3.075328\n",
       "2456  3.0335  3.0525  2.9300  2.9335  1.304887e-01  3.564930e-05  3.049541\n",
       "2457  2.9310  3.0140  2.8725  3.0040  8.282508e-03  1.809896e-06  3.041261\n",
       "2458  2.9960  2.9960  2.9505  2.9870  5.134515e-01  9.045794e-05  3.031396\n",
       "2459  2.9835  2.9840  2.9605  2.9665  4.697581e-02  8.162595e-03  3.019596\n",
       "2460  2.9615  3.0175  2.9615  3.0060  9.823610e-01  5.114201e-05  3.017124\n",
       "2461  2.9990  3.0185  2.9950  2.9990  9.999061e-01  2.784251e-07  3.013829\n",
       "2462  2.9975  3.0175  2.9780  2.9820  9.871472e-01  8.351547e-07  3.008042\n",
       "2463  2.9790  3.0470  2.9620  3.0240  9.517280e-01  3.450645e-06  3.010943\n",
       "2464  3.0185  3.0235  2.9835  2.9895  9.994525e-01  8.039032e-07  3.007045\n",
       "2465  2.9895  3.0280  2.9865  3.0175  9.997217e-01  1.685858e-07  3.008946\n",
       "2466  3.0085  3.0370  3.0050  3.0305  9.007318e-01  2.557222e-06  3.012865\n",
       "2467  3.0210  3.0435  2.9600  2.9750  2.453569e-02  9.883737e-07  3.005980\n",
       "2468  2.9690  2.9825  2.9405  2.9550  9.373418e-03  2.292873e-06  2.996711\n",
       "2469  2.9635  2.9890  2.9235  2.9670  4.124290e-04  4.147463e-04  2.991309\n",
       "2470  2.9660  2.9820  2.9390  2.9500  5.871863e-03  3.161810e-05  2.983798\n",
       "2471  2.9425  3.0000  2.9425  2.9810  3.482693e-02  4.578938e-05  2.983289\n",
       "2472  2.9860  3.0015  2.9640  2.9690  2.656543e-02  3.865028e-06  2.980691\n",
       "2473  2.9690  2.9770  2.9510  2.9625  2.300707e-03  1.804403e-06  2.977384\n",
       "2474  2.9630  2.9705  2.9405  2.9500  3.017873e-03  5.426790e-06  2.972405\n",
       "2475  2.9490  2.9590  2.9005  2.9105  7.417434e-04  6.055071e-06  2.961150\n",
       "2476  2.9105  2.9435  2.8525  2.9185  6.530660e-02  4.527416e-07  2.953395\n",
       "2477  2.9495  2.9575  2.9120  2.9220  5.873362e-03  3.848931e-05  2.947687\n",
       "\n",
       "[2478 rows x 7 columns]"
      ]
     },
     "execution_count": 112,
     "metadata": {},
     "output_type": "execute_result"
    }
   ],
   "source": [
    "raw_data"
   ]
  },
  {
   "cell_type": "code",
   "execution_count": null,
   "metadata": {
    "collapsed": true
   },
   "outputs": [],
   "source": []
  }
 ],
 "metadata": {
  "kernelspec": {
   "display_name": "Python 3",
   "language": "python",
   "name": "python3"
  },
  "language_info": {
   "codemirror_mode": {
    "name": "ipython",
    "version": 3
   },
   "file_extension": ".py",
   "mimetype": "text/x-python",
   "name": "python",
   "nbconvert_exporter": "python",
   "pygments_lexer": "ipython3",
   "version": "3.6.2"
  }
 },
 "nbformat": 4,
 "nbformat_minor": 2
}
