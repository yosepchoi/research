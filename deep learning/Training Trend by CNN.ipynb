{
 "cells": [
  {
   "cell_type": "code",
   "execution_count": 1,
   "metadata": {
    "collapsed": true
   },
   "outputs": [],
   "source": [
    "%matplotlib inline\n",
    "import matplotlib.pyplot as plt\n",
    "import tensorflow as tf\n",
    "import numpy as np\n",
    "from IPython.display import clear_output\n",
    "import time"
   ]
  },
  {
   "cell_type": "code",
   "execution_count": 10,
   "metadata": {
    "collapsed": true
   },
   "outputs": [],
   "source": [
    "class Model:\n",
    "\n",
    "    def __init__(self, sess, name, learning_rate=0.001, period=120):\n",
    "        self.sess = sess\n",
    "        self.name = name\n",
    "        self._build_net(period, learning_rate)\n",
    "        \n",
    "\n",
    "    def _build_net(self, period, learning_rate):\n",
    "        with tf.variable_scope(self.name):\n",
    "            # dropout (keep_prob) rate  0.7~0.5 on training, but should be 1\n",
    "            # for testing\n",
    "            self.training = tf.placeholder(tf.bool)\n",
    "\n",
    "            # input place holders\n",
    "            self.X = tf.placeholder(tf.float32, [None, period, 4])\n",
    "\n",
    "            # 120x4 (OHLC), Input Layer\n",
    "            ohlc = tf.reshape(self.X, [-1, period,  4])\n",
    "            # 3(down trend, neither, up trend), ouput layer\n",
    "            self.Y = tf.placeholder(tf.float32, [None, 3])\n",
    "\n",
    "            # Convolutional Layer #1\n",
    "            conv1 = tf.layers.conv1d(inputs=ohlc, filters=32, kernel_size=5, padding=\"same\", activation=tf.nn.relu)\n",
    "            # Pooling Layer #1\n",
    "            #pool1 = tf.layers.max_pooling1d(inputs=conv1, pool_size=1, padding=\"same\", strides=1)\n",
    "            dropout1 = tf.layers.dropout(inputs=conv1, rate=0.7, training=self.training)\n",
    "\n",
    "            # Convolutional Layer #2 and Pooling Layer #2\n",
    "            conv2 = tf.layers.conv1d(inputs=dropout1, filters=64, kernel_size=5, padding=\"same\", activation=tf.nn.relu)\n",
    "            #pool2 = tf.layers.max_pooling1d(inputs=conv2, pool_size=1, padding=\"same\", strides=2)\n",
    "            dropout2 = tf.layers.dropout(inputs=conv2, rate=0.7, training=self.training)\n",
    "\n",
    "            # Convolutional Layer #3 and Pooling Layer #3\n",
    "            conv3 = tf.layers.conv1d(inputs=dropout2, filters=128, kernel_size=5, padding=\"same\", activation=tf.nn.relu)\n",
    "            #pool3 = tf.layers.max_pooling1d(inputs=conv3, pool_size=1, padding=\"same\", strides=1)\n",
    "            dropout3 = tf.layers.dropout(inputs=conv3, rate=0.7, training=self.training)\n",
    "\n",
    "            # Dense Layer with Relu\n",
    "            size = np.prod(dropout3.shape.as_list()[1:])\n",
    "            flat = tf.reshape(dropout3, [-1, size])\n",
    "            dense4 = tf.layers.dense(inputs=flat, units=1024, activation=tf.nn.relu)\n",
    "            dropout4 = tf.layers.dropout(inputs=dense4, rate=0.5, training=self.training)\n",
    "\n",
    "            # Logits (no activation) Layer: L5 Final FC 1024 inputs -> 3 outputs\n",
    "            self.logits = tf.layers.dense(inputs=dropout4, units=3)\n",
    "\n",
    "        # define cost/loss & optimizer\n",
    "        self.cost = tf.reduce_mean(tf.nn.softmax_cross_entropy_with_logits(logits=self.logits, labels=self.Y))\n",
    "        self.optimizer = tf.train.AdamOptimizer(learning_rate=learning_rate).minimize(self.cost)\n",
    "\n",
    "        correct_prediction = tf.equal(tf.argmax(self.logits, 1), tf.argmax(self.Y, 1))\n",
    "        self.accuracy = tf.reduce_mean(tf.cast(correct_prediction, tf.float32))\n",
    "\n",
    "    def predict(self, x_test, training=False):\n",
    "        return self.sess.run(self.logits, feed_dict={self.X: x_test, self.training: training})\n",
    "\n",
    "    def get_accuracy(self, x_test, y_test, training=False):\n",
    "        return self.sess.run(self.accuracy, feed_dict={self.X: x_test, self.Y: y_test, self.training: training})\n",
    "\n",
    "    def train(self, x_data, y_data, training=True):\n",
    "        return self.sess.run([self.cost, self.optimizer], feed_dict={self.X: x_data, self.Y: y_data, self.training: training})"
   ]
  },
  {
   "cell_type": "markdown",
   "metadata": {},
   "source": [
    "### 1. 데이터 불러오기"
   ]
  },
  {
   "cell_type": "code",
   "execution_count": 3,
   "metadata": {
    "collapsed": true
   },
   "outputs": [],
   "source": [
    "xy1 = np.genfromtxt('data/120day_trend(normed_by_globalstd)_2.csv', delimiter=',', dtype=np.float32)\n",
    "xy2 = np.genfromtxt('data/120day_trend(normed_by_globalstd)_1.csv', delimiter=',', dtype=np.float32)\n",
    "xy = np.concatenate((xy1,xy2))"
   ]
  },
  {
   "cell_type": "markdown",
   "metadata": {},
   "source": [
    "##### Data Reconstruction"
   ]
  },
  {
   "cell_type": "code",
   "execution_count": 4,
   "metadata": {
    "collapsed": true
   },
   "outputs": [],
   "source": [
    "test_len = 200\n",
    "length = xy.shape[0]\n",
    "\n",
    "# data reconstruction\n",
    "X_Data = np.stack( (xy[0::4, :-1], xy[1::4, :-1], xy[2::4, :-1], xy[3::4, :-1]), axis=-1)\n",
    "# y 데이터 구조 변경: 0~2 --> [1,0,0], [0,1,0], [0,0,1]\n",
    "y = xy[::4, -1].astype(np.int16)\n",
    "Y_Data = np.zeros((y.size, y.max().astype(np.int32)+1))\n",
    "Y_Data[np.arange(y.size), y] = 1\n",
    "\n",
    "#train data\n",
    "X_Train = X_Data[test_len:]\n",
    "Y_Train = Y_Data[test_len:]\n",
    "X_Test = X_Data[:test_len]\n",
    "Y_Test = Y_Data[:test_len]"
   ]
  },
  {
   "cell_type": "code",
   "execution_count": 5,
   "metadata": {
    "collapsed": true
   },
   "outputs": [],
   "source": [
    "# initialize\n",
    "sess = tf.Session()"
   ]
  },
  {
   "cell_type": "code",
   "execution_count": 6,
   "metadata": {
    "collapsed": true
   },
   "outputs": [],
   "source": [
    "m1 = Model(sess, \"m1\")"
   ]
  },
  {
   "cell_type": "code",
   "execution_count": 12,
   "metadata": {},
   "outputs": [
    {
     "name": "stdout",
     "output_type": "stream",
     "text": [
      "INFO:tensorflow:Restoring parameters from tf/120day_trend_weight.ckpt\n"
     ]
    }
   ],
   "source": [
    "saver = tf.train.Saver()\n",
    "s=saver.restore(sess, \"tf/120day_trend_weight.ckpt\")"
   ]
  },
  {
   "cell_type": "code",
   "execution_count": 7,
   "metadata": {
    "collapsed": true,
    "scrolled": true
   },
   "outputs": [],
   "source": [
    "sess.run(tf.global_variables_initializer())"
   ]
  },
  {
   "cell_type": "code",
   "execution_count": 9,
   "metadata": {
    "scrolled": true
   },
   "outputs": [
    {
     "name": "stdout",
     "output_type": "stream",
     "text": [
      "step:  0 cost:  0.668476  (0.61 sec)\n",
      "step:  10 cost:  0.672329  (5.97 sec)\n",
      "step:  20 cost:  0.665744  (5.86 sec)\n",
      "step:  30 cost:  0.619545  (5.90 sec)\n",
      "step:  40 cost:  0.608474  (5.94 sec)\n",
      "step:  50 cost:  0.59641  (5.93 sec)\n",
      "step:  60 cost:  0.594161  (5.89 sec)\n",
      "step:  70 cost:  0.583033  (5.94 sec)\n",
      "step:  80 cost:  0.56241  (5.90 sec)\n",
      "step:  90 cost:  0.56276  (5.98 sec)\n",
      "step:  100 cost:  0.560667  (6.08 sec)\n",
      "step:  110 cost:  0.565262  (6.17 sec)\n",
      "step:  120 cost:  0.54106  (5.99 sec)\n",
      "step:  130 cost:  0.537757  (5.93 sec)\n",
      "step:  140 cost:  0.524053  (5.88 sec)\n",
      "step:  150 cost:  0.515016  (5.95 sec)\n",
      "step:  160 cost:  0.507868  (5.89 sec)\n",
      "step:  170 cost:  0.486487  (5.85 sec)\n",
      "step:  180 cost:  0.510279  (6.20 sec)\n",
      "step:  190 cost:  0.475661  (6.24 sec)\n",
      "step:  200 cost:  0.488733  (6.20 sec)\n",
      "step:  210 cost:  0.478849  (6.13 sec)\n",
      "step:  220 cost:  0.486147  (6.23 sec)\n",
      "step:  230 cost:  0.469307  (6.23 sec)\n",
      "step:  240 cost:  0.456545  (6.16 sec)\n",
      "step:  250 cost:  0.498504  (6.09 sec)\n",
      "step:  260 cost:  0.46293  (6.02 sec)\n",
      "step:  270 cost:  0.462968  (5.95 sec)\n",
      "step:  280 cost:  0.455465  (6.31 sec)\n",
      "step:  290 cost:  0.457155  (6.19 sec)\n",
      "step:  300 cost:  0.455599  (5.93 sec)\n",
      "step:  310 cost:  0.443301  (5.96 sec)\n",
      "step:  320 cost:  0.453469  (6.11 sec)\n",
      "step:  330 cost:  0.459464  (5.94 sec)\n",
      "step:  340 cost:  0.441479  (5.96 sec)\n",
      "step:  350 cost:  0.420173  (6.00 sec)\n",
      "step:  360 cost:  0.422564  (6.00 sec)\n",
      "step:  370 cost:  0.434769  (5.91 sec)\n",
      "step:  380 cost:  0.424818  (6.14 sec)\n",
      "step:  390 cost:  0.432576  (6.07 sec)\n",
      "step:  400 cost:  0.422644  (6.16 sec)\n",
      "step:  410 cost:  0.415505  (6.20 sec)\n",
      "step:  420 cost:  0.412857  (6.10 sec)\n",
      "step:  430 cost:  0.4521  (6.24 sec)\n",
      "step:  440 cost:  0.418766  (5.99 sec)\n",
      "step:  450 cost:  0.416809  (6.04 sec)\n",
      "step:  460 cost:  0.419919  (6.06 sec)\n",
      "step:  470 cost:  0.411709  (6.08 sec)\n",
      "step:  480 cost:  0.370243  (6.03 sec)\n",
      "step:  490 cost:  0.415  (6.05 sec)\n",
      "step:  500 cost:  0.392364  (6.14 sec)\n",
      "step:  510 cost:  0.380646  (6.77 sec)\n",
      "step:  520 cost:  0.413497  (6.32 sec)\n",
      "step:  530 cost:  0.375412  (6.34 sec)\n",
      "step:  540 cost:  0.366877  (6.30 sec)\n",
      "step:  550 cost:  0.396798  (6.18 sec)\n",
      "step:  560 cost:  0.361933  (6.19 sec)\n",
      "step:  570 cost:  0.398034  (6.13 sec)\n",
      "step:  580 cost:  0.396978  (6.15 sec)\n",
      "step:  590 cost:  0.387225  (6.20 sec)\n",
      "step:  600 cost:  0.36937  (6.10 sec)\n",
      "step:  610 cost:  0.377378  (6.17 sec)\n",
      "step:  620 cost:  0.350133  (6.12 sec)\n",
      "step:  630 cost:  0.36702  (6.21 sec)\n",
      "step:  640 cost:  0.37207  (6.17 sec)\n",
      "step:  650 cost:  0.373901  (6.19 sec)\n",
      "step:  660 cost:  0.365392  (6.19 sec)\n",
      "step:  670 cost:  0.363212  (6.23 sec)\n",
      "step:  680 cost:  0.350269  (6.18 sec)\n",
      "step:  690 cost:  0.368478  (6.32 sec)\n",
      "step:  700 cost:  0.382786  (6.25 sec)\n",
      "step:  710 cost:  0.359278  (6.23 sec)\n",
      "step:  720 cost:  0.347533  (6.27 sec)\n",
      "step:  730 cost:  0.354611  (6.23 sec)\n",
      "step:  740 cost:  0.354003  (6.25 sec)\n",
      "step:  750 cost:  0.342508  (6.18 sec)\n",
      "step:  760 cost:  0.322197  (6.22 sec)\n",
      "step:  770 cost:  0.338955  (6.25 sec)\n",
      "step:  780 cost:  0.333092  (6.25 sec)\n",
      "step:  790 cost:  0.322723  (6.24 sec)\n",
      "step:  800 cost:  0.347911  (6.23 sec)\n",
      "step:  810 cost:  0.347595  (6.18 sec)\n",
      "step:  820 cost:  0.338697  (6.13 sec)\n",
      "step:  830 cost:  0.334004  (6.28 sec)\n",
      "step:  840 cost:  0.336839  (6.21 sec)\n",
      "step:  850 cost:  0.343101  (6.26 sec)\n",
      "step:  860 cost:  0.319133  (6.20 sec)\n",
      "step:  870 cost:  0.316843  (6.25 sec)\n",
      "step:  880 cost:  0.308416  (6.38 sec)\n",
      "step:  890 cost:  0.325654  (6.36 sec)\n",
      "step:  900 cost:  0.333277  (6.59 sec)\n",
      "step:  910 cost:  0.303744  (6.30 sec)\n",
      "step:  920 cost:  0.313126  (6.24 sec)\n",
      "step:  930 cost:  0.317658  (6.29 sec)\n",
      "step:  940 cost:  0.336788  (6.15 sec)\n",
      "step:  950 cost:  0.315728  (6.32 sec)\n",
      "step:  960 cost:  0.329727  (6.22 sec)\n",
      "step:  970 cost:  0.303751  (6.41 sec)\n",
      "step:  980 cost:  0.308969  (6.28 sec)\n",
      "step:  990 cost:  0.293039  (6.21 sec)\n",
      "Done\n"
     ]
    }
   ],
   "source": [
    "timer = time.time()\n",
    "for step in range(1000):\n",
    "    c, _ = m1.train(X_Train, Y_Train)\n",
    "    if step % 10 == 0:\n",
    "        timediff = time.time() - timer\n",
    "        timer = time.time()\n",
    "        print('step: ', step, 'cost: ', c , ' (%.2f sec)'%timediff)\n",
    "print('Done')"
   ]
  },
  {
   "cell_type": "code",
   "execution_count": 23,
   "metadata": {
    "scrolled": true
   },
   "outputs": [
    {
     "name": "stdout",
     "output_type": "stream",
     "text": [
      "Accuracy: 0.895\n"
     ]
    }
   ],
   "source": [
    "print('Accuracy:', m1.get_accuracy(X_Test, Y_Test))"
   ]
  },
  {
   "cell_type": "code",
   "execution_count": 24,
   "metadata": {},
   "outputs": [
    {
     "name": "stdout",
     "output_type": "stream",
     "text": [
      "Model saved in file: tf/120day_trend_weight.ckpt\n"
     ]
    }
   ],
   "source": [
    "save_path = saver.save(sess, \"tf/120day_trend_weight.ckpt\")\n",
    "print(\"Model saved in file: %s\" % save_path)"
   ]
  },
  {
   "cell_type": "markdown",
   "metadata": {},
   "source": [
    "### 2. 테스트"
   ]
  },
  {
   "cell_type": "markdown",
   "metadata": {},
   "source": [
    "##### 1) 테스트 데이터"
   ]
  },
  {
   "cell_type": "code",
   "execution_count": null,
   "metadata": {},
   "outputs": [
    {
     "name": "stdout",
     "output_type": "stream",
     "text": [
      "real:  1\n",
      "pred: 1\n",
      "[[  1.86053654e-07   9.99999762e-01   9.92644231e-11]]\n"
     ]
    },
    {
     "data": {
      "image/png": "[encoded data removed]",
      "text/plain": [
       "<matplotlib.figure.Figure at 0x1fc76e17978>"
      ]
     },
     "metadata": {},
     "output_type": "display_data"
    }
   ],
   "source": [
    "for num in range(1):\n",
    "    #num = np.random.randint(0,len(test_X))\n",
    "    data = X_Test[num]\n",
    "    real = np.argmax(Y_Test[num])\n",
    "    pred = m1.predict([X_Test[num]])\n",
    "    \n",
    "    print('real: ', real)\n",
    "    print('pred:', np.argmax(pred))\n",
    "    print(pred)\n",
    "    plt.plot(data)\n",
    "    plt.show()\n",
    "    input()\n",
    "    clear_output(wait=True)"
   ]
  },
  {
   "cell_type": "markdown",
   "metadata": {},
   "source": [
    "##### 2) 실 데이터"
   ]
  },
  {
   "cell_type": "code",
   "execution_count": 25,
   "metadata": {
    "collapsed": true
   },
   "outputs": [],
   "source": [
    "def westerncandlestick(ax, quotes, width=0.2, colorup='r', colordown='k', \n",
    "                 linewidth=0.5):\n",
    "\n",
    "    OFFSET = width / 2.0\n",
    "\n",
    "    lines = []\n",
    "    openlines = []\n",
    "    closelines = []\n",
    "    for q in quotes:\n",
    "        t, open, high, low, close = q[:5]\n",
    "\n",
    "        if close >= open:\n",
    "            color = colorup\n",
    "        else:\n",
    "            color = colordown\n",
    "\n",
    "        vline = Line2D( xdata=(t, t), ydata=(low, high),\n",
    "            color=color, linewidth=linewidth, antialiased=True)\n",
    "        lines.append(vline)\n",
    "\n",
    "        openline = Line2D(xdata=(t - OFFSET, t), ydata=(open,open),\n",
    "                          color=color, linewidth=linewidth, antialiased=True)\n",
    "        openlines.append(openline)\n",
    "\n",
    "        closeline = Line2D(xdata=(t , t+OFFSET), ydata=(close,close),\n",
    "                          color=color, linewidth=linewidth, antialiased=True)\n",
    "        closelines.append(closeline)\n",
    "\n",
    "        ax.add_line(vline)\n",
    "        ax.add_line(openline)\n",
    "        ax.add_line(closeline)\n",
    "    \n",
    "    ax.axhline(linewidth=1, color='g')\n",
    "    ax.axvline(x=int(t/2), linewidth=1, color='g')\n",
    "    ax.autoscale_view()\n",
    "\n",
    "    return lines, openlines, closelines"
   ]
  },
  {
   "cell_type": "code",
   "execution_count": 26,
   "metadata": {
    "collapsed": true
   },
   "outputs": [],
   "source": [
    "#실 데이터 테스트\n",
    "import quandl\n",
    "import pandas as pd\n",
    "from matplotlib.lines import Line2D\n",
    "quandl.ApiConfig.api_key = \"UzB-e5CDdoACq4ENxbVS\"\n",
    "window = 240\n",
    "df = pd.read_csv('data/SCF-datasets-codes.csv')\n",
    "codes_tmp = []\n",
    "contents = []\n",
    "for idx, code, content in df.itertuples():\n",
    "    if code[-4:] == '1_OB':\n",
    "        codes_tmp.append(code)\n",
    "        contents.append(content)\n",
    "codes = pd.DataFrame()\n",
    "codes['code'] = codes_tmp\n",
    "codes['contents'] = contents"
   ]
  },
  {
   "cell_type": "code",
   "execution_count": null,
   "metadata": {},
   "outputs": [
    {
     "name": "stdout",
     "output_type": "stream",
     "text": [
      "ICE Brent Crude Oil Futures #1 (B1) - Front Month - Backwards Panama Adjusted Prices, Roll on Open Interest Switc\n"
     ]
    },
    {
     "data": {
      "image/png": "[encoded data removed]",
      "text/plain": [
       "<matplotlib.figure.Figure at 0x2cf81f43f28>"
      ]
     },
     "metadata": {},
     "output_type": "display_data"
    },
    {
     "name": "stdout",
     "output_type": "stream",
     "text": [
      "pred: 1\n",
      "[[-22.53499985  12.28999996  -6.08699989]]\n",
      "prob:  [[ 0.  1.  0.]]\n"
     ]
    }
   ],
   "source": [
    "window = 120\n",
    "while True:\n",
    "    idx = np.random.randint(0, len(codes))\n",
    "    code = codes.iloc[idx].code\n",
    "    content = codes.iloc[idx].contents\n",
    "\n",
    "    raw_data = quandl.get(code)\n",
    "    raw_data.drop(['Volume', 'Prev. Day Open Interest'], axis=1, inplace=True)\n",
    "    std = raw_data.Settle.std()\n",
    "    length = len(raw_data)\n",
    "    \n",
    "    for i in range(10):\n",
    "        print(content[:-30])\n",
    "        \n",
    "        #시작일자 랜덤 설정\n",
    "        start = np.random.randint(0, length -  window)\n",
    "        end = start + window\n",
    "\n",
    "        #Data Normalization\n",
    "        data = raw_data[start:end]\n",
    "        data = (data-data.Settle.mean())/std\n",
    "        data.insert(0, 'index', np.arange(len(data)))\n",
    "        \n",
    "        #그래프 \n",
    "        fig, (ax) = plt.subplots(2,1, gridspec_kw = {'height_ratios':[1, 2]}, figsize=(8,9))\n",
    "        fig.autofmt_xdate()\n",
    "            \n",
    "        ax[0].plot(raw_data.index.values, raw_data.Settle.values)\n",
    "        ax[0].axvspan(raw_data.index.values[start], raw_data.index.values[end], facecolor='y', alpha=0.3)\n",
    "        \n",
    "        westerncandlestick(ax[1], data.values, linewidth=1.44)\n",
    "        plt.show()\n",
    "        \n",
    "        #추세\n",
    "        time.sleep(0.1)\n",
    "        \n",
    "        temp = data.drop('index', axis=1).values.T\n",
    "        test_data = np.stack( (temp[0::4, :], temp[1::4, :], temp[2::4, :], temp[3::4, :]), axis=-1)\n",
    "        pred = m1.predict(test_data)\n",
    "    \n",
    "        print('pred:', np.argmax(pred))\n",
    "        print(np.round(pred,3))\n",
    "        print('prob: ', np.round(sess.run(tf.nn.softmax(pred)),3))\n",
    "        key = input()\n",
    "        \n",
    "        clear_output(wait=True)\n",
    "        if key == 'q':\n",
    "            break\n",
    "    if key == 'q':\n",
    "            break\n",
    "    clear_output(wait=True)"
   ]
  },
  {
   "cell_type": "code",
   "execution_count": 39,
   "metadata": {},
   "outputs": [
    {
     "data": {
      "text/plain": [
       "array([[  6.31562500e-08,   9.99999881e-01,   3.38847349e-21]], dtype=float32)"
      ]
     },
     "execution_count": 39,
     "metadata": {},
     "output_type": "execute_result"
    }
   ],
   "source": [
    "sess.run(tf.nn.softmax(pred))"
   ]
  }
 ],
 "metadata": {
  "kernelspec": {
   "display_name": "Python 3",
   "language": "python",
   "name": "python3"
  },
  "language_info": {
   "codemirror_mode": {
    "name": "ipython",
    "version": 3
   },
   "file_extension": ".py",
   "mimetype": "text/x-python",
   "name": "python",
   "nbconvert_exporter": "python",
   "pygments_lexer": "ipython3",
   "version": "3.6.1"
  }
 },
 "nbformat": 4,
 "nbformat_minor": 2
}
