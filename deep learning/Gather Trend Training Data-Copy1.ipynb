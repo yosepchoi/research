{
 "cells": [
  {
   "cell_type": "code",
   "execution_count": 1,
   "metadata": {
    "collapsed": true
   },
   "outputs": [],
   "source": [
    "%matplotlib inline\n",
    "import matplotlib.pyplot as plt\n",
    "import numpy as np\n",
    "import sqlite3 as lite\n",
    "import pandas as pd\n",
    "import tables as tb\n",
    "from IPython.display import clear_output\n",
    "import csv\n",
    "import quandl\n",
    "from scipy import stats\n",
    "import time\n",
    "from matplotlib.lines import Line2D\n",
    "\n",
    "np.random.seed(777)\n",
    "quandl.ApiConfig.api_key = \"UzB-e5CDdoACq4ENxbVS\""
   ]
  },
  {
   "cell_type": "code",
   "execution_count": 2,
   "metadata": {
    "collapsed": true
   },
   "outputs": [],
   "source": [
    "def westerncandlestick(ax, quotes, width=0.2, colorup='r', colordown='k',linewidth=0.5):\n",
    "\n",
    "    OFFSET = width / 2.0\n",
    "\n",
    "    lines = []\n",
    "    openlines = []\n",
    "    closelines = []\n",
    "    for q in quotes:\n",
    "        t, open, high, low, close = q[:5]\n",
    "\n",
    "        if close > open:\n",
    "            color = colorup\n",
    "        else:\n",
    "            color = colordown\n",
    "\n",
    "        vline = Line2D( xdata=(t, t), ydata=(low, high), color=color, linewidth=linewidth, antialiased=True)\n",
    "        lines.append(vline)\n",
    "\n",
    "        openline = Line2D(xdata=(t - OFFSET, t), ydata=(open,open), color=color, linewidth=linewidth, antialiased=True)\n",
    "        openlines.append(openline)\n",
    "\n",
    "        closeline = Line2D(xdata=(t , t+OFFSET), ydata=(close,close), color=color, linewidth=linewidth, antialiased=True)\n",
    "        closelines.append(closeline)\n",
    "\n",
    "        ax.add_line(vline)\n",
    "        ax.add_line(openline)\n",
    "        ax.add_line(closeline)\n",
    "    \n",
    "    ax.axhline(linewidth=1, color='g')\n",
    "    ax.axvline(x=int(t/2), linewidth=1, color='g')\n",
    "    ax.autoscale_view()\n",
    "\n",
    "    return lines, openlines, closelines"
   ]
  },
  {
   "cell_type": "code",
   "execution_count": 8,
   "metadata": {},
   "outputs": [],
   "source": [
    "# quandl에서 backward panama adjusted continuous contracts 자료 받기\n",
    "df = pd.read_csv('data/SCF-meta.csv')\n",
    "df['iid'] = 'SCF/'+df.Exchange+'_'+df.Symbol+'1_OB'\n",
    "meta = df[['iid','name']]"
   ]
  },
  {
   "cell_type": "code",
   "execution_count": 11,
   "metadata": {},
   "outputs": [
    {
     "data": {
      "text/html": [
       "<div>\n",
       "<style>\n",
       "    .dataframe thead tr:only-child th {\n",
       "        text-align: right;\n",
       "    }\n",
       "\n",
       "    .dataframe thead th {\n",
       "        text-align: left;\n",
       "    }\n",
       "\n",
       "    .dataframe tbody tr th {\n",
       "        vertical-align: top;\n",
       "    }\n",
       "</style>\n",
       "<table border=\"1\" class=\"dataframe\">\n",
       "  <thead>\n",
       "    <tr style=\"text-align: right;\">\n",
       "      <th></th>\n",
       "      <th>iid</th>\n",
       "      <th>name</th>\n",
       "    </tr>\n",
       "  </thead>\n",
       "  <tbody>\n",
       "    <tr>\n",
       "      <th>0</th>\n",
       "      <td>SCF/CME_CL1_OB</td>\n",
       "      <td>NYMEX WTI Crude Oil</td>\n",
       "    </tr>\n",
       "    <tr>\n",
       "      <th>1</th>\n",
       "      <td>SCF/CME_LN1_OB</td>\n",
       "      <td>CME Lean Hogs</td>\n",
       "    </tr>\n",
       "    <tr>\n",
       "      <th>2</th>\n",
       "      <td>SCF/CME_W1_OB</td>\n",
       "      <td>CBOT Wheat</td>\n",
       "    </tr>\n",
       "    <tr>\n",
       "      <th>3</th>\n",
       "      <td>SCF/CME_NK1_OB</td>\n",
       "      <td>CME Nikkei 225</td>\n",
       "    </tr>\n",
       "    <tr>\n",
       "      <th>4</th>\n",
       "      <td>SCF/CME_S1_OB</td>\n",
       "      <td>CBOT Soybeans</td>\n",
       "    </tr>\n",
       "  </tbody>\n",
       "</table>\n",
       "</div>"
      ],
      "text/plain": [
       "              iid                 name\n",
       "0  SCF/CME_CL1_OB  NYMEX WTI Crude Oil\n",
       "1  SCF/CME_LN1_OB        CME Lean Hogs\n",
       "2   SCF/CME_W1_OB           CBOT Wheat\n",
       "3  SCF/CME_NK1_OB       CME Nikkei 225\n",
       "4   SCF/CME_S1_OB        CBOT Soybeans"
      ]
     },
     "execution_count": 11,
     "metadata": {},
     "output_type": "execute_result"
    }
   ],
   "source": [
    "meta.head()"
   ]
  },
  {
   "cell_type": "code",
   "execution_count": null,
   "metadata": {
    "collapsed": true
   },
   "outputs": [],
   "source": [
    "WINDOW = 60"
   ]
  },
  {
   "cell_type": "code",
   "execution_count": 31,
   "metadata": {
    "scrolled": false
   },
   "outputs": [
    {
     "name": "stdout",
     "output_type": "stream",
     "text": [
      "CBOT Oats Futures #1 (O1) - Front Month - Backwards Panama Adjusted Prices, Roll on Open Interest Switc\n",
      "hurst exponent:  0.561515086415\n"
     ]
    },
    {
     "data": {
      "image/png": "[encoded data removed]",
      "text/plain": [
       "<matplotlib.figure.Figure at 0x2c0be3d71d0>"
      ]
     },
     "metadata": {},
     "output_type": "display_data"
    },
    {
     "name": "stdout",
     "output_type": "stream",
     "text": [
      "하락(0), 기타(1),  상승(2): q\n"
     ]
    }
   ],
   "source": [
    "window = 120\n",
    "while True:\n",
    "    idx = np.random.randint(0, len(codes))\n",
    "    code = codes.iloc[idx].code\n",
    "    content = codes.iloc[idx].contents\n",
    "\n",
    "    raw_data = quandl.get(code)\n",
    "    raw_data.drop(['Volume', 'Prev. Day Open Interest'], axis=1, inplace=True)\n",
    "    std = raw_data.Settle.std()\n",
    "    #log_change = np.log( (raw_data/raw_data.shift(1)).dropna().drop(['Volume', 'Prev. Day Open Interest'], axis=1) )\n",
    "    #mean = np.abs(log_change.Settle).mean()\n",
    "    #normed_data = log_change/mean\n",
    "    length = len(raw_data)\n",
    "    #hurst exponent -- why need?\n",
    "    #slope, intercept, logx, logy = hurst_exp(raw_data.Settle)\n",
    "    \n",
    "    for i in range(10):\n",
    "        print(content[:-30])\n",
    "        #print('\\nHurst exponent: ', slope)\n",
    "        \n",
    "        #시작일자 랜덤 설정\n",
    "        start = np.random.randint(0, length -  window)\n",
    "        end = start + window\n",
    "\n",
    "        #Data Normalization\n",
    "        #data = normed_data[start:end].cumsum()\n",
    "        #data.insert(0, 'index', np.arange(len(data)) )\n",
    "        data = raw_data[start:end]\n",
    "        data = (data-data.Settle.mean())/std\n",
    "        data.insert(0, 'index', np.arange(len(data)))\n",
    "        \n",
    "        #그래프 \n",
    "        fig, (ax) = plt.subplots(2,1, gridspec_kw = {'height_ratios':[1, 2]}, figsize=(8,9))\n",
    "        fig.autofmt_xdate()\n",
    "            \n",
    "        ax[0].plot(raw_data.index.values, raw_data.Settle.values)\n",
    "        ax[0].axvspan(raw_data.index.values[start], raw_data.index.values[end], facecolor='y', alpha=0.3)\n",
    "        \n",
    "        #ax2 = plt.subplot(3,1,3)\n",
    "        #ax[1].plot(x,y, 'm.')\n",
    "        #ax[1].axhline(linewidth=1, color='g')\n",
    "        #ax[1].axvline(x=x[int(len(x)/2)], linewidth=1, color='g')\n",
    "        westerncandlestick(ax[1], data.values, linewidth=1.44)\n",
    "        \n",
    "        \n",
    "        rps, logx, slope, intercept = rescaled_range(data.Settle)\n",
    "        print(\"hurst exponent: \", slope)\n",
    "        plt.show()\n",
    "        \n",
    "        #추세 입력\n",
    "        time.sleep(0.1)\n",
    "        trend = input(\"하락(0), 기타(1),  상승(2): \")\n",
    "        if trend == 'q' or trend == 'n':\n",
    "            break\n",
    "        elif trend in ['0','1','2']:\n",
    "            seq = np.array([[int(trend)], [int(trend)], [int(trend)], [int(trend)]])\n",
    "            data.drop('index', axis=1, inplace=True)\n",
    "            row = np.hstack((data.values.T, seq))\n",
    "            \n",
    "            with open('data/120day_trend(normed_by_globalstd)_2.csv', 'ab') as file:\n",
    "                np.savetxt(file, row, fmt='%.7f', delimiter=',')\n",
    "        \n",
    "        clear_output(wait=True)\n",
    "    if trend == 'q':\n",
    "            break\n",
    "    clear_output(wait=True)"
   ]
  },
  {
   "cell_type": "code",
   "execution_count": 29,
   "metadata": {
    "collapsed": true
   },
   "outputs": [],
   "source": [
    "d = np.genfromtxt('data/120day_trend(normed_by_globalstd)_2.csv', delimiter=',')"
   ]
  },
  {
   "cell_type": "code",
   "execution_count": 30,
   "metadata": {},
   "outputs": [
    {
     "data": {
      "text/plain": [
       "array([[-0.5023531, -0.4822212, -0.5690867, ...,  0.290993 ,  0.2932299,\n",
       "         2.       ],\n",
       "       [-0.4479224, -0.4714097, -0.5601392, ...,  0.318954 ,  0.307024 ,\n",
       "         2.       ],\n",
       "       [-0.5493276, -0.5825079, -0.6697462, ...,  0.2589311,  0.2641505,\n",
       "         2.       ],\n",
       "       ..., \n",
       "       [-0.7328209, -0.7431808, -0.6269876, ...,  0.8315207,  0.8851483,\n",
       "         2.       ],\n",
       "       [-0.838451 , -0.8047306, -0.7754792, ...,  0.5993376,  0.7319846,\n",
       "         2.       ],\n",
       "       [-0.7756823, -0.7734478, -0.6519732, ...,  0.8067383,  0.7494542,\n",
       "         2.       ]])"
      ]
     },
     "execution_count": 30,
     "metadata": {},
     "output_type": "execute_result"
    }
   ],
   "source": [
    "d"
   ]
  },
  {
   "cell_type": "code",
   "execution_count": null,
   "metadata": {
    "collapsed": true
   },
   "outputs": [],
   "source": []
  }
 ],
 "metadata": {
  "kernelspec": {
   "display_name": "Python 3",
   "language": "python",
   "name": "python3"
  },
  "language_info": {
   "codemirror_mode": {
    "name": "ipython",
    "version": 3
   },
   "file_extension": ".py",
   "mimetype": "text/x-python",
   "name": "python",
   "nbconvert_exporter": "python",
   "pygments_lexer": "ipython3",
   "version": "3.6.1"
  }
 },
 "nbformat": 4,
 "nbformat_minor": 2
}
