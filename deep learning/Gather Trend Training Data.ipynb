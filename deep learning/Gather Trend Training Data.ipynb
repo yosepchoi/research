{
 "cells": [
  {
   "cell_type": "code",
   "execution_count": 1,
   "metadata": {
    "collapsed": true
   },
   "outputs": [],
   "source": [
    "import sys\n",
    "sys.path.append('..')"
   ]
  },
  {
   "cell_type": "code",
   "execution_count": 2,
   "metadata": {},
   "outputs": [],
   "source": [
    "%matplotlib inline\n",
    "import matplotlib.pyplot as plt\n",
    "import numpy as np\n",
    "import sqlite3 as lite\n",
    "import pandas as pd\n",
    "import tables as tb\n",
    "from IPython.display import clear_output\n",
    "import csv\n",
    "import quandl\n",
    "from scipy import stats\n",
    "import time\n",
    "from modules.factory import ohlc_chart "
   ]
  },
  {
   "cell_type": "code",
   "execution_count": 3,
   "metadata": {
    "collapsed": true
   },
   "outputs": [],
   "source": [
    "np.random.seed(777)\n",
    "METAFILE = '../data/SCF-meta.csv'\n",
    "quandl.ApiConfig.api_key = \"UzB-e5CDdoACq4ENxbVS\""
   ]
  },
  {
   "cell_type": "code",
   "execution_count": 4,
   "metadata": {
    "collapsed": true
   },
   "outputs": [],
   "source": [
    "# quandl에서 backward panama adjusted continuous contracts 자료 받기\n",
    "df = pd.read_csv(METAFILE)\n",
    "df['iid'] = 'SCF/'+df.Exchange+'_'+df.Symbol+'1_OB'\n",
    "meta = df[['iid','name']]"
   ]
  },
  {
   "cell_type": "code",
   "execution_count": 5,
   "metadata": {},
   "outputs": [
    {
     "data": {
      "text/html": [
       "<div>\n",
       "<style>\n",
       "    .dataframe thead tr:only-child th {\n",
       "        text-align: right;\n",
       "    }\n",
       "\n",
       "    .dataframe thead th {\n",
       "        text-align: left;\n",
       "    }\n",
       "\n",
       "    .dataframe tbody tr th {\n",
       "        vertical-align: top;\n",
       "    }\n",
       "</style>\n",
       "<table border=\"1\" class=\"dataframe\">\n",
       "  <thead>\n",
       "    <tr style=\"text-align: right;\">\n",
       "      <th></th>\n",
       "      <th>iid</th>\n",
       "      <th>name</th>\n",
       "    </tr>\n",
       "  </thead>\n",
       "  <tbody>\n",
       "    <tr>\n",
       "      <th>0</th>\n",
       "      <td>SCF/CME_CL1_OB</td>\n",
       "      <td>NYMEX WTI Crude Oil</td>\n",
       "    </tr>\n",
       "    <tr>\n",
       "      <th>1</th>\n",
       "      <td>SCF/CME_LN1_OB</td>\n",
       "      <td>CME Lean Hogs</td>\n",
       "    </tr>\n",
       "    <tr>\n",
       "      <th>2</th>\n",
       "      <td>SCF/CME_W1_OB</td>\n",
       "      <td>CBOT Wheat</td>\n",
       "    </tr>\n",
       "    <tr>\n",
       "      <th>3</th>\n",
       "      <td>SCF/CME_NK1_OB</td>\n",
       "      <td>CME Nikkei 225</td>\n",
       "    </tr>\n",
       "    <tr>\n",
       "      <th>4</th>\n",
       "      <td>SCF/CME_S1_OB</td>\n",
       "      <td>CBOT Soybeans</td>\n",
       "    </tr>\n",
       "  </tbody>\n",
       "</table>\n",
       "</div>"
      ],
      "text/plain": [
       "              iid                 name\n",
       "0  SCF/CME_CL1_OB  NYMEX WTI Crude Oil\n",
       "1  SCF/CME_LN1_OB        CME Lean Hogs\n",
       "2   SCF/CME_W1_OB           CBOT Wheat\n",
       "3  SCF/CME_NK1_OB       CME Nikkei 225\n",
       "4   SCF/CME_S1_OB        CBOT Soybeans"
      ]
     },
     "execution_count": 5,
     "metadata": {},
     "output_type": "execute_result"
    }
   ],
   "source": [
    "meta.head()"
   ]
  },
  {
   "cell_type": "code",
   "execution_count": 6,
   "metadata": {
    "collapsed": true
   },
   "outputs": [],
   "source": [
    "WINDOW = 60"
   ]
  },
  {
   "cell_type": "code",
   "execution_count": 7,
   "metadata": {
    "scrolled": false
   },
   "outputs": [
    {
     "name": "stdout",
     "output_type": "stream",
     "text": [
      "SHFE Aluminium\n"
     ]
    },
    {
     "data": {
      "image/png": "[encoded data removed]",
      "text/plain": [
       "<matplotlib.figure.Figure at 0x29ff88d06a0>"
      ]
     },
     "metadata": {},
     "output_type": "display_data"
    },
    {
     "name": "stdout",
     "output_type": "stream",
     "text": [
      "하락(0), 기타(1),  상승(2): q\n"
     ]
    }
   ],
   "source": [
    "while True:\n",
    "    idx = np.random.randint(0, len(meta))\n",
    "    code = meta.iloc[idx].iid\n",
    "    name = meta.iloc[idx]['name']\n",
    "\n",
    "    raw_data = quandl.get(code)\n",
    "    raw_data.drop(['Volume', 'Prev. Day Open Interest'], axis=1, inplace=True)\n",
    "    std = raw_data.Settle.std()\n",
    "    length = len(raw_data)\n",
    "    \n",
    "    for i in range(10):\n",
    "        print(name)\n",
    "        \n",
    "        #시작일자 랜덤 설정\n",
    "        start = np.random.randint(0, length -  WINDOW)\n",
    "        end = start + WINDOW\n",
    "\n",
    "        #Data Normalization\n",
    "        data = raw_data[start:end]\n",
    "        data = (data-data.Settle.mean())/std\n",
    "        data.insert(0, 'index', np.arange(len(data)))\n",
    "        \n",
    "        #그래프 \n",
    "        fig, (ax) = plt.subplots(2,1, gridspec_kw = {'height_ratios':[1, 2]}, figsize=(8,9))\n",
    "        fig.autofmt_xdate()\n",
    "            \n",
    "        ax[0].plot(raw_data.index.values, raw_data.Settle.values)\n",
    "        ax[0].axvspan(raw_data.index.values[start], raw_data.index.values[end], facecolor='y', alpha=0.3)\n",
    "        \n",
    "        ohlc_chart(ax[1], data.values, linewidth=1.44)\n",
    "        plt.show()\n",
    "        \n",
    "        #추세 입력\n",
    "        time.sleep(0.1)\n",
    "        trend = input(\"하락(0), 기타(1),  상승(2): \")\n",
    "        if trend == 'q' or trend == 'n':\n",
    "            break\n",
    "        elif trend in ['0','1','2']:\n",
    "            seq = np.array([[int(trend)], [int(trend)], [int(trend)], [int(trend)]])\n",
    "            data.drop('index', axis=1, inplace=True)\n",
    "            row = np.hstack((data.values.T, seq))\n",
    "            \n",
    "            with open('../data/uptrend-globalstd(60days).csv', 'ab') as file:\n",
    "                np.savetxt(file, row, fmt='%.7f', delimiter=',')\n",
    "        \n",
    "        clear_output(wait=True)\n",
    "    if trend == 'q':\n",
    "            break\n",
    "    clear_output(wait=True)"
   ]
  },
  {
   "cell_type": "code",
   "execution_count": 29,
   "metadata": {
    "collapsed": true
   },
   "outputs": [],
   "source": [
    "d = np.genfromtxt('data/120day_trend(normed_by_globalstd)_2.csv', delimiter=',')"
   ]
  },
  {
   "cell_type": "code",
   "execution_count": null,
   "metadata": {
    "collapsed": true
   },
   "outputs": [],
   "source": []
  }
 ],
 "metadata": {
  "kernelspec": {
   "display_name": "Python 3",
   "language": "python",
   "name": "python3"
  },
  "language_info": {
   "codemirror_mode": {
    "name": "ipython",
    "version": 3
   },
   "file_extension": ".py",
   "mimetype": "text/x-python",
   "name": "python",
   "nbconvert_exporter": "python",
   "pygments_lexer": "ipython3",
   "version": "3.6.1"
  }
 },
 "nbformat": 4,
 "nbformat_minor": 2
}
