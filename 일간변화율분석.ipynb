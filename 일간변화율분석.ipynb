{
 "cells": [
  {
   "cell_type": "code",
   "execution_count": 1,
   "metadata": {
    "collapsed": true
   },
   "outputs": [],
   "source": [
    "%matplotlib inline\n",
    "import numpy as np\n",
    "import pandas as pd\n",
    "import matplotlib.pyplot as plt\n",
    "import tables as tb"
   ]
  },
  {
   "cell_type": "code",
   "execution_count": 2,
   "metadata": {
    "collapsed": true
   },
   "outputs": [],
   "source": [
    "db = tb.open_file('data/market.hdf5')"
   ]
  },
  {
   "cell_type": "code",
   "execution_count": 12,
   "metadata": {
    "collapsed": true
   },
   "outputs": [],
   "source": [
    "# 종목코드\n",
    "group = 'AD' "
   ]
  },
  {
   "cell_type": "code",
   "execution_count": 13,
   "metadata": {
    "collapsed": true
   },
   "outputs": [],
   "source": [
    "# 일일 ohlc 데이터프레임 생성\n",
    "daily = pd.DataFrame(getattr(db.root, group).Daily.read())\n",
    "daily = daily.sort_values('date', ascending=True) # 날짜 정렬\n",
    "daily = daily.assign(date=daily.date.astype('M8[s]'))"
   ]
  },
  {
   "cell_type": "markdown",
   "metadata": {},
   "source": [
    "### 1. Kurtosis, Autocorrelation coefficient 구하기"
   ]
  },
  {
   "cell_type": "code",
   "execution_count": 18,
   "metadata": {},
   "outputs": [
    {
     "data": {
      "image/png": "[encoded data removed]",
      "text/plain": [
       "<matplotlib.figure.Figure at 0x2962d387908>"
      ]
     },
     "metadata": {},
     "output_type": "display_data"
    }
   ],
   "source": [
    "# 일일 종가 변화율 =log(전일종가/오늘종가)\n",
    "dist = daily[['date']].copy(deep=True)\n",
    "dist['change'] = np.log(daily.close.shift(1)/daily.close)\n",
    "ax = dist.plot.kde(x='date',y='change', color='red', figsize=(10,5))\n",
    "\n",
    "#plot normal distribution\n",
    "np.random.seed(1000)\n",
    "mean = dist.change.mean()\n",
    "std = dist.change.std()\n",
    "size = len(dist)\n",
    "norm_data = pd.DataFrame(np.random.normal(loc=mean, scale=std, size=size))\n",
    "norm_data.plot.kde(color='black',label='norm', ax=ax)\n",
    "\n",
    "#density distribution\n",
    "dist.plot.kde(x='date',y='change', color='red', ax=ax)\n",
    "#평균 수직선\n",
    "#plt.vlines(dist.range.mean(), ymin=0, ymax=65, linewidth=2.0, color='green')\n",
    "\n",
    "#legend\n",
    "ax.legend([group, 'NORMAL']); #legend"
   ]
  },
  {
   "cell_type": "code",
   "execution_count": 15,
   "metadata": {},
   "outputs": [
    {
     "name": "stdout",
     "output_type": "stream",
     "text": [
      "mean:  -7.50833065687e-05\n",
      "kurtosis:  9.80203640812\n",
      "skewness:  0.764947243678\n",
      "autocorr:  -0.0391247642372\n"
     ]
    }
   ],
   "source": [
    "print('mean: ', dist.change.mean())\n",
    "print('kurtosis: ', dist.change.kurtosis())\n",
    "print('skewness: ', dist.change.skew())\n",
    "print('autocorr: ', dist.change.autocorr())"
   ]
  },
  {
   "cell_type": "markdown",
   "metadata": {},
   "source": [
    "### 2. kurtosis와 autocorrelation coefficient의 상관계수 구하기"
   ]
  },
  {
   "cell_type": "code",
   "execution_count": 16,
   "metadata": {},
   "outputs": [],
   "source": [
    "kurtosis = []\n",
    "autocorr = []\n",
    "for item in db.iter_nodes('/'):\n",
    "    grp = item._v_name\n",
    "    daily = pd.DataFrame(getattr(db.root, grp).Daily.read())\n",
    "    daily = daily.sort_values('date', ascending=True) # 날짜 정렬\n",
    "    daily['change'] = np.log(daily.close.shift(1)/daily.close)\n",
    "    kurtosis.append(daily.change.kurtosis())\n",
    "    autocorr.append(abs(daily.change.autocorr()))\n",
    "    #print(f\"{item._v_title} : kurtosis: {daily.change.kurtosis()}, autocorr: {daily.change.autocorr()}\")"
   ]
  },
  {
   "cell_type": "code",
   "execution_count": 17,
   "metadata": {},
   "outputs": [
    {
     "data": {
      "text/plain": [
       "[<matplotlib.lines.Line2D at 0x2962d3784e0>]"
      ]
     },
     "execution_count": 17,
     "metadata": {},
     "output_type": "execute_result"
    },
    {
     "data": {
      "image/png": "[encoded data removed]",
      "text/plain": [
       "<matplotlib.figure.Figure at 0x2962d618390>"
      ]
     },
     "metadata": {},
     "output_type": "display_data"
    }
   ],
   "source": [
    "plt.plot(autocorr,kurtosis, 'ro')\n",
    "#plt.axis([0, 0.1, 0, 50])"
   ]
  },
  {
   "cell_type": "code",
   "execution_count": 10,
   "metadata": {},
   "outputs": [
    {
     "name": "stdout",
     "output_type": "stream",
     "text": [
      "[[ 1.          0.81836193]\n",
      " [ 0.81836193  1.        ]]\n"
     ]
    }
   ],
   "source": [
    "# 상관계수\n",
    "np.corrcoef([kurtosis, autocorr])"
   ]
  }
 ],
 "metadata": {
  "kernelspec": {
   "display_name": "Python 3",
   "language": "python",
   "name": "python3"
  },
  "language_info": {
   "codemirror_mode": {
    "name": "ipython",
    "version": 3
   },
   "file_extension": ".py",
   "mimetype": "text/x-python",
   "name": "python",
   "nbconvert_exporter": "python",
   "pygments_lexer": "ipython3",
   "version": "3.6.1"
  }
 },
 "nbformat": 4,
 "nbformat_minor": 2
}
